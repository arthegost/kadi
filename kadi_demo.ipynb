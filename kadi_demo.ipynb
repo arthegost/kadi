{
 "metadata": {
  "name": "kadi_demo"
 },
 "nbformat": 3,
 "nbformat_minor": 0,
 "worksheets": [
  {
   "cells": [
    {
     "cell_type": "markdown",
     "metadata": {},
     "source": [
      "Kadi\n",
      "====\n",
      "\n",
      "What is Kadi?\n",
      "\n",
      "- **Database** of Chandra events\n",
      "\n",
      "  - Events in telemetry such as maneuvers, NPM dwells, obsids, mech movements,\n",
      "    momentum dumps, orbit events, etc.\n",
      "  - CAPs, DSN passes, dark cals, SCS107, safe modes, bright star hold, etc\n",
      "  - Chandra major events since launch\n",
      "  - Every load command run on-board since 2002, with a link to source load products\n",
      "  - The database is contained in easily transportable sqlite3 or HDF5 files.\n",
      "\n",
      "- **Python API** for accessing events for analysis and using with the Ska engineering archive\n",
      "- **Python tools** to maintain the Kadi database on the HEAD and Greta networks \n",
      "- **Web site** for browsing events on the icxc site or by a localhost server on GRETA.  This\n",
      "  will use the [Django web framework](https://www.djangoproject.com/) to provide query and administrative capabilities.\n",
      "- **RESTful web service** API on the icxc site."
     ]
    },
    {
     "cell_type": "markdown",
     "metadata": {},
     "source": [
      "Tables\n",
      "------\n",
      "\n",
      "### CAP\n",
      "\n",
      "    \"ifot_id\" integer NOT NULL PRIMARY KEY,\n",
      "    \"start\" varchar(21) NOT NULL,\n",
      "    \"stop\" varchar(21) NOT NULL,\n",
      "    \"num\" varchar(15) NOT NULL,\n",
      "    \"title\" text NOT NULL,\n",
      "    \"descr\" text NOT NULL,\n",
      "    \"notes\" text NOT NULL,\n",
      "    \"link\" varchar(250) NOT NULL\n",
      "\n",
      "### DSN comm\n",
      "\n",
      "    \"ifot_id\" integer NOT NULL PRIMARY KEY,\n",
      "    \"start\" varchar(21) NOT NULL,\n",
      "    \"stop\" varchar(21) NOT NULL,\n",
      "    \"bot\" varchar(4) NOT NULL,\n",
      "    \"eot\" varchar(4) NOT NULL,\n",
      "    \"activity\" varchar(30) NOT NULL,\n",
      "    \"config\" varchar(10) NOT NULL,\n",
      "    \"data_rate\" varchar(9) NOT NULL,\n",
      "    \"site\" varchar(12) NOT NULL,\n",
      "    \"soe\" varchar(4) NOT NULL,\n",
      "    \"station\" varchar(6) NOT NULL\n",
      "\n",
      "### Dump\n",
      "\n",
      "    \"start\" varchar(21) NOT NULL PRIMARY KEY,\n",
      "    \"stop\" varchar(21) NOT NULL,\n",
      "    \"tstart\" real NOT NULL,\n",
      "    \"tstop\" real NOT NULL,\n",
      "    \"dur\" real NOT NULL\n",
      "\n",
      "### Dwell\n",
      "\n",
      "    \"start\" varchar(21) NOT NULL PRIMARY KEY,\n",
      "    \"stop\" varchar(21) NOT NULL,\n",
      "    \"tstart\" real NOT NULL,\n",
      "    \"tstop\" real NOT NULL,\n",
      "    \"dur\" real NOT NULL,\n",
      "    \"rel_tstart\" real NOT NULL,\n",
      "    \"manvr_id\" varchar(21) NOT NULL REFERENCES \"events_manvr\" (\"start\")\n",
      "\n",
      "### Eclipse\n",
      "\n",
      "    \"start\" varchar(21) NOT NULL PRIMARY KEY,\n",
      "    \"stop\" varchar(21) NOT NULL,\n",
      "    \"tstart\" real NOT NULL,\n",
      "    \"tstop\" real NOT NULL,\n",
      "    \"dur\" real NOT NULL\n",
      "\n",
      "### FA move\n",
      "\n",
      "    \"start\" varchar(21) NOT NULL PRIMARY KEY,\n",
      "    \"stop\" varchar(21) NOT NULL,\n",
      "    \"tstart\" real NOT NULL,\n",
      "    \"tstop\" real NOT NULL,\n",
      "    \"dur\" real NOT NULL,\n",
      "    \"start_3fapos\" integer NOT NULL,\n",
      "    \"stop_3fapos\" integer NOT NULL\n",
      "\n",
      "### Major event\n",
      "\n",
      "    \"key\" varchar(24) NOT NULL PRIMARY KEY,\n",
      "    \"start\" varchar(8) NOT NULL,\n",
      "    \"date\" varchar(11) NOT NULL,\n",
      "    \"tstart\" real NOT NULL,\n",
      "    \"descr\" text NOT NULL,\n",
      "    \"note\" text NOT NULL,\n",
      "    \"source\" varchar(3) NOT NULL\n",
      "\n",
      "### Manvr\n",
      "\n",
      "    \"start\" varchar(21) NOT NULL PRIMARY KEY,\n",
      "    \"stop\" varchar(21) NOT NULL,\n",
      "    \"tstart\" real NOT NULL,\n",
      "    \"tstop\" real NOT NULL,\n",
      "    \"dur\" real NOT NULL,\n",
      "    \"prev_manvr_stop\" varchar(21),\n",
      "    \"prev_npnt_start\" varchar(21),\n",
      "    \"nman_start\" varchar(21),\n",
      "    \"manvr_start\" varchar(21),\n",
      "    \"manvr_stop\" varchar(21),\n",
      "    \"npnt_start\" varchar(21),\n",
      "    \"acq_start\" varchar(21),\n",
      "    \"guide_start\" varchar(21),\n",
      "    \"kalman_start\" varchar(21),\n",
      "    \"aca_proc_act_start\" varchar(21),\n",
      "    \"npnt_stop\" varchar(21),\n",
      "    \"next_nman_start\" varchar(21),\n",
      "    \"next_manvr_start\" varchar(21),\n",
      "    \"n_dwell\" integer NOT NULL,\n",
      "    \"n_acq\" integer NOT NULL,\n",
      "    \"n_guide\" integer NOT NULL,\n",
      "    \"n_kalman\" integer NOT NULL,\n",
      "    \"anomalous\" bool NOT NULL,\n",
      "    \"template\" varchar(16) NOT NULL,\n",
      "    \"start_ra\" real NOT NULL,\n",
      "    \"start_dec\" real NOT NULL,\n",
      "    \"start_roll\" real NOT NULL,\n",
      "    \"stop_ra\" real NOT NULL,\n",
      "    \"stop_dec\" real NOT NULL,\n",
      "    \"stop_roll\" real NOT NULL,\n",
      "    \"angle\" real NOT NULL\n",
      "\n",
      "### Manvr sequence\n",
      "\n",
      "This is a different type of event since it does not span an interval of time.\n",
      "\n",
      "    \"id\" integer NOT NULL PRIMARY KEY,\n",
      "    \"manvr_id\" varchar(21) NOT NULL REFERENCES \"events_manvr\" (\"start\"),\n",
      "    \"msid\" varchar(8) NOT NULL,\n",
      "    \"prev_val\" varchar(4) NOT NULL,\n",
      "    \"val\" varchar(4) NOT NULL,\n",
      "    \"date\" varchar(21) NOT NULL,\n",
      "    \"dt\" real NOT NULL,\n",
      "    \"time\" real NOT NULL,\n",
      "    \"prev_date\" varchar(21) NOT NULL,\n",
      "    \"prev_time\" real NOT NULL\n",
      "\n",
      "### Orbit\n",
      "\n",
      "    \"start\" varchar(21) NOT NULL,\n",
      "    \"stop\" varchar(21) NOT NULL,\n",
      "    \"tstart\" real NOT NULL,\n",
      "    \"tstop\" real NOT NULL,\n",
      "    \"dur\" real NOT NULL,\n",
      "    \"orbit_num\" integer NOT NULL PRIMARY KEY,\n",
      "    \"perigee\" varchar(21) NOT NULL,\n",
      "    \"apogee\" varchar(21) NOT NULL,\n",
      "    \"t_perigee\" real NOT NULL,\n",
      "    \"start_radzone\" varchar(21) NOT NULL,\n",
      "    \"stop_radzone\" varchar(21) NOT NULL,\n",
      "    \"dt_start_radzone\" real NOT NULL,\n",
      "    \"dt_stop_radzone\" real NOT NULL\n",
      "\n",
      "### Orbit point\n",
      "\n",
      "This is a different type of event since it does not span an interval of time.\n",
      "\n",
      "    \"id\" integer NOT NULL PRIMARY KEY,\n",
      "    \"orbit_id\" integer NOT NULL REFERENCES \"events_orbit\" (\"orbit_num\"),\n",
      "    \"date\" varchar(21) NOT NULL,\n",
      "    \"name\" varchar(9) NOT NULL,\n",
      "    \"orbit_num\" integer NOT NULL,\n",
      "    \"descr\" varchar(50) NOT NULL\n",
      "\n",
      "### Rad zone\n",
      "\n",
      "    \"start\" varchar(21) NOT NULL PRIMARY KEY,\n",
      "    \"stop\" varchar(21) NOT NULL,\n",
      "    \"tstart\" real NOT NULL,\n",
      "    \"tstop\" real NOT NULL,\n",
      "    \"dur\" real NOT NULL,\n",
      "    \"orbit_id\" integer NOT NULL REFERENCES \"events_orbit\" (\"orbit_num\"),\n",
      "    \"orbit_num\" integer NOT NULL\n",
      "\n",
      "### Safe sun\n",
      "\n",
      "    \"start\" varchar(21) NOT NULL PRIMARY KEY,\n",
      "    \"stop\" varchar(21) NOT NULL,\n",
      "    \"tstart\" real NOT NULL,\n",
      "    \"tstop\" real NOT NULL,\n",
      "    \"dur\" real NOT NULL,\n",
      "    \"notes\" text NOT NULL\n",
      "\n",
      "### SCS107\n",
      "\n",
      "    \"start\" varchar(21) NOT NULL PRIMARY KEY,\n",
      "    \"stop\" varchar(21) NOT NULL,\n",
      "    \"tstart\" real NOT NULL,\n",
      "    \"tstop\" real NOT NULL,\n",
      "    \"dur\" real NOT NULL,\n",
      "    \"notes\" text NOT NULL\n",
      "\n",
      "### TSC move\n",
      "\n",
      "    \"start\" varchar(21) NOT NULL PRIMARY KEY,\n",
      "    \"stop\" varchar(21) NOT NULL,\n",
      "    \"tstart\" real NOT NULL,\n",
      "    \"tstop\" real NOT NULL,\n",
      "    \"dur\" real NOT NULL,\n",
      "    \"start_3tscpos\" integer NOT NULL,\n",
      "    \"stop_3tscpos\" integer NOT NULL,\n",
      "    \"start_det\" varchar(6) NOT NULL,\n",
      "    \"stop_det\" varchar(6) NOT NULL,\n",
      "    \"max_pwm\" integer NOT NULL\n"
     ]
    },
    {
     "cell_type": "markdown",
     "metadata": {},
     "source": [
      "Getting events in Python\n",
      "------------------------"
     ]
    },
    {
     "cell_type": "code",
     "collapsed": false,
     "input": [
      "from kadi import events"
     ],
     "language": "python",
     "metadata": {},
     "outputs": []
    },
    {
     "cell_type": "code",
     "collapsed": false,
     "input": [
      "help(events)"
     ],
     "language": "python",
     "metadata": {},
     "outputs": []
    },
    {
     "cell_type": "markdown",
     "metadata": {},
     "source": [
      "Find and filter\n",
      "----------------\n",
      "Each of the values in `DATA` is an `EventQuery` object that lets you access the events of that type.\n",
      "There are two object methods to do that:\n",
      "\n",
      "- `find(start, stop, **filter_kwargs)`: get a structured array for events between `start` and `stop` matching `filter_kwargs`\n",
      "- `filter(start, stop, **filter_kwargs)`: get a [Django QuerySet](https://docs.djangoproject.com/en/1.4/topics/db/queries/) for events between `start` and `stop` matching `filter_kwargs`"
     ]
    },
    {
     "cell_type": "markdown",
     "metadata": {},
     "source": [
      "### Filter"
     ]
    },
    {
     "cell_type": "code",
     "collapsed": false,
     "input": [
      "tsc_moves = events.tsc_moves.find('2012:001', '2012:004')\n",
      "print tsc_moves\n",
      "print tsc_moves.dtype.names"
     ],
     "language": "python",
     "metadata": {},
     "outputs": []
    },
    {
     "cell_type": "code",
     "collapsed": false,
     "input": [
      "tsc_moves = events.tsc_moves.find()  # with no args you get the full mission (from 2000)"
     ],
     "language": "python",
     "metadata": {},
     "outputs": []
    },
    {
     "cell_type": "code",
     "collapsed": false,
     "input": [
      "len(tsc_moves)"
     ],
     "language": "python",
     "metadata": {},
     "outputs": []
    },
    {
     "cell_type": "code",
     "collapsed": false,
     "input": [
      "impska"
     ],
     "language": "python",
     "metadata": {},
     "outputs": []
    },
    {
     "cell_type": "code",
     "collapsed": false,
     "input": [
      "out = plot_cxctime(tsc_moves['tstart'], tsc_moves['max_pwm'], '.')\n",
      "ylim(-0.5, 12)"
     ],
     "language": "python",
     "metadata": {},
     "outputs": []
    },
    {
     "cell_type": "code",
     "collapsed": false,
     "input": [
      "manvrs = events.manvrs.find('2012:001')"
     ],
     "language": "python",
     "metadata": {},
     "outputs": []
    },
    {
     "cell_type": "code",
     "collapsed": false,
     "input": [
      "out = plot_cxctime(manvrs['tstart'], manvrs['angle'], '.')"
     ],
     "language": "python",
     "metadata": {},
     "outputs": []
    },
    {
     "cell_type": "code",
     "collapsed": false,
     "input": [
      "out = hist(manvrs['angle'], bins=50)"
     ],
     "language": "python",
     "metadata": {},
     "outputs": []
    },
    {
     "cell_type": "code",
     "collapsed": false,
     "input": [
      "orbits = events.orbits.find()\n",
      "out = plot_cxctime(orbits['tstart'], orbits['dt_start_radzone'], '.r')\n",
      "out = plot_cxctime(orbits['tstart'], orbits['dt_stop_radzone'], '.b')\n",
      "grid()"
     ],
     "language": "python",
     "metadata": {},
     "outputs": []
    },
    {
     "cell_type": "code",
     "collapsed": false,
     "input": [
      "print events.major_events.find('2011:180', '2011:190')"
     ],
     "language": "python",
     "metadata": {},
     "outputs": []
    },
    {
     "cell_type": "code",
     "collapsed": false,
     "input": [
      "print events.major_events.find(descr__icontains='safemode')"
     ],
     "language": "python",
     "metadata": {},
     "outputs": []
    },
    {
     "cell_type": "code",
     "collapsed": false,
     "input": [
      "print events.major_events.find(descr__icontains='safe', source__exact='FOT')"
     ],
     "language": "python",
     "metadata": {},
     "outputs": []
    },
    {
     "cell_type": "markdown",
     "metadata": {},
     "source": [
      "### Filter\n",
      "\n",
      "`filter()` brings you the full power of the Django **Object Relational Mapper**\n",
      "\n",
      "This includes the ability to chain filters, but more important the objects that are returned are not simple numpy structured arrays.  Instead they are model objects that can support capabilities like plotting and one-to-many database relationships.  This will be clear from the following examples."
     ]
    },
    {
     "cell_type": "code",
     "collapsed": false,
     "input": [
      "scs107s = events.major_events.filter(descr__icontains='scs #107', source__exact='FOT')\n",
      "print type(scs107s)\n",
      "print type(scs107s[0])"
     ],
     "language": "python",
     "metadata": {},
     "outputs": []
    },
    {
     "cell_type": "code",
     "collapsed": false,
     "input": [
      "for scs107 in scs107s:\n",
      "    print scs107.start, scs107.descr"
     ],
     "language": "python",
     "metadata": {},
     "outputs": []
    },
    {
     "cell_type": "code",
     "collapsed": false,
     "input": [
      "scs107s = events.major_events.filter(descr__icontains='scs', source__exact='FOT')\n",
      "for scs107 in scs107s:\n",
      "    print scs107.start, scs107.descr"
     ],
     "language": "python",
     "metadata": {},
     "outputs": []
    },
    {
     "cell_type": "code",
     "collapsed": false,
     "input": [
      "scs107s = events.major_events.filter(descr__icontains='scs', source__exact='FOT').filter(descr__icontains='107')\n",
      "for scs107 in scs107s:\n",
      "    print scs107.start, scs107.descr"
     ],
     "language": "python",
     "metadata": {},
     "outputs": []
    },
    {
     "cell_type": "code",
     "collapsed": false,
     "input": [
      "manvrs = events.manvrs.filter('2011:001', '2011:030', n_dwell__exact=1, angle__gte=140)\n",
      "for manvr in manvrs:\n",
      "    print manvr"
     ],
     "language": "python",
     "metadata": {},
     "outputs": []
    },
    {
     "cell_type": "code",
     "collapsed": false,
     "input": [
      "sorted({manvr.template for manvr in events.manvrs.filter()})"
     ],
     "language": "python",
     "metadata": {},
     "outputs": []
    },
    {
     "cell_type": "code",
     "collapsed": false,
     "input": [
      "manvr = manvrs[0]"
     ],
     "language": "python",
     "metadata": {},
     "outputs": []
    },
    {
     "cell_type": "code",
     "collapsed": false,
     "input": [
      "manvr"
     ],
     "language": "python",
     "metadata": {},
     "outputs": []
    },
    {
     "cell_type": "code",
     "collapsed": false,
     "input": [
      "help(manvr)"
     ],
     "language": "python",
     "metadata": {},
     "outputs": []
    },
    {
     "cell_type": "code",
     "collapsed": false,
     "input": [
      "manvr.plot()"
     ],
     "language": "python",
     "metadata": {},
     "outputs": []
    },
    {
     "cell_type": "code",
     "collapsed": false,
     "input": [
      "for manvrseq in manvr.manvrseq_set.all():\n",
      "    print manvrseq"
     ],
     "language": "python",
     "metadata": {},
     "outputs": []
    },
    {
     "cell_type": "code",
     "collapsed": false,
     "input": [
      "events.queryset_to_array(manvr.manvrseq_set)"
     ],
     "language": "python",
     "metadata": {},
     "outputs": []
    },
    {
     "cell_type": "markdown",
     "metadata": {},
     "source": [
      "Commands\n",
      "--------\n",
      "\n",
      "All the commands that have been run as stored commands via SCS slots 128 to 133 are stored in a single HDF5 file.  These are accessible via the `kadi.cmds` module.  (*To be changed to kadi.commands*).\n",
      "\n",
      "Technically speaking, \"all commands\" refers to every command that is part of a load segment that is on iFOT and was actually uplinked and run.  This is part of the Ska commanded states database.  There is a certain component of human caretaking to ensure that load stop times are correct, so small errors are possible (and likely) near times of anomalous load stops.\n",
      "\n",
      "One final limitation is that the star catalog parameters are not stored.  To do so would increase the file size by a factor of 10."
     ]
    },
    {
     "cell_type": "code",
     "collapsed": false,
     "input": [
      "from kadi import cmds as commands"
     ],
     "language": "python",
     "metadata": {},
     "outputs": []
    },
    {
     "cell_type": "markdown",
     "metadata": {},
     "source": [
      "### Find and filter\n",
      "\n",
      "The commands interface also features `find` and `filter` functions.  They share the same idea as the corresponding `events` versions, but the details are different."
     ]
    },
    {
     "cell_type": "markdown",
     "metadata": {},
     "source": [
      "**find**: `find(start, stop, **filter_kwargs)` returns a numpy array with `idx`, `date`, `type`, `tlmsid`, `scs`, `step`, and `timeline_id` fields"
     ]
    },
    {
     "cell_type": "code",
     "collapsed": false,
     "input": [
      "commands.find('2012:001:00:00:00', '2012:001:01:00:00')"
     ],
     "language": "python",
     "metadata": {},
     "outputs": []
    },
    {
     "cell_type": "code",
     "collapsed": false,
     "input": [
      "import pickle\n",
      "cmd_params = pickle.load(open('cmds.pkl'))"
     ],
     "language": "python",
     "metadata": {},
     "outputs": []
    },
    {
     "cell_type": "code",
     "collapsed": false,
     "input": [
      "len(cmd_params)"
     ],
     "language": "python",
     "metadata": {},
     "outputs": []
    },
    {
     "cell_type": "code",
     "collapsed": false,
     "input": [
      "cmd_params.items()[-1]"
     ],
     "language": "python",
     "metadata": {},
     "outputs": []
    },
    {
     "cell_type": "code",
     "collapsed": false,
     "input": [
      "rev_params = {v: k for k, v in cmd_params.items()}"
     ],
     "language": "python",
     "metadata": {},
     "outputs": []
    },
    {
     "cell_type": "code",
     "collapsed": false,
     "input": [
      "rev_params[34]"
     ],
     "language": "python",
     "metadata": {},
     "outputs": []
    },
    {
     "cell_type": "code",
     "collapsed": false,
     "input": [
      "commands.find('2012:001', '2012:005', tlmsid='WSPOW00000')"
     ],
     "language": "python",
     "metadata": {},
     "outputs": []
    },
    {
     "cell_type": "code",
     "collapsed": false,
     "input": [
      "commands.find('2012:001', '2012:002', tlmsid='AOUPTARQ')"
     ],
     "language": "python",
     "metadata": {},
     "outputs": []
    },
    {
     "cell_type": "markdown",
     "metadata": {},
     "source": [
      "**Filter**: `filter(start, stop, **filter_kwargs)` returns a `CmdList` object with **all** the parameters"
     ]
    },
    {
     "cell_type": "code",
     "collapsed": false,
     "input": [
      "cmds = commands.filter('2012:001', '2012:002', tlmsid='AOUPTARQ')\n",
      "print type(cmds)\n",
      "print cmds"
     ],
     "language": "python",
     "metadata": {},
     "outputs": []
    },
    {
     "cell_type": "markdown",
     "metadata": {},
     "source": [
      "Intervals\n",
      "----------\n",
      "\n",
      "The `QueryEvent` class provides a way to define complex bad time filters to the Ska engineering archive."
     ]
    },
    {
     "cell_type": "code",
     "collapsed": false,
     "input": [
      "manvr_intervals = events.manvrs.intervals('2012:001', '2012:002')\n",
      "manvr_intervals"
     ],
     "language": "python",
     "metadata": {},
     "outputs": []
    },
    {
     "cell_type": "code",
     "collapsed": false,
     "input": [
      "dwell_intervals = events.dwells.intervals('2012:001', '2012:002')\n",
      "dwell_intervals"
     ],
     "language": "python",
     "metadata": {},
     "outputs": []
    },
    {
     "cell_type": "code",
     "collapsed": false,
     "input": [
      "(events.manvrs & events.tsc_moves).intervals('2012:001', '2012:002')"
     ],
     "language": "python",
     "metadata": {},
     "outputs": []
    },
    {
     "cell_type": "code",
     "collapsed": false,
     "input": [
      "dwells = events.dwells\n",
      "dwells.interval_pad = -100\n",
      "tsc_moves = events.tsc_moves\n",
      "tsc_moves.interval_pad = 300\n",
      "dumps = events.dumps\n",
      "dumps.interval_pad = (10, 500)\n",
      "(dwells & ~(tsc_moves | dumps)).intervals('2012:001', '2012:002')"
     ],
     "language": "python",
     "metadata": {},
     "outputs": []
    },
    {
     "cell_type": "code",
     "collapsed": false,
     "input": [
      "dwells_inv = ~(dwells & ~(tsc_moves | dumps))\n",
      "bad_intervals = dwells_inv.intervals('2012:001', '2012:002')\n",
      "bad_times = ['{} {}'.format(*x) for x in bad_intervals]\n",
      "bad_times"
     ],
     "language": "python",
     "metadata": {},
     "outputs": []
    },
    {
     "cell_type": "code",
     "collapsed": false,
     "input": [
      "dat = fetch.Msid('aoattqt1', '2012:001', '2012:002')"
     ],
     "language": "python",
     "metadata": {},
     "outputs": []
    },
    {
     "cell_type": "code",
     "collapsed": false,
     "input": [
      "dat.filter_bad_times(table=bad_times)"
     ],
     "language": "python",
     "metadata": {},
     "outputs": []
    },
    {
     "cell_type": "code",
     "collapsed": false,
     "input": [
      "out = plot_cxctime(dat.times, dat.vals, '.')"
     ],
     "language": "python",
     "metadata": {},
     "outputs": []
    },
    {
     "cell_type": "code",
     "collapsed": false,
     "input": [
      "rad_zones = events.rad_zones\n",
      "rad_zone_dwells = rad_zones & dwells\n",
      "bad_intervals = (~rad_zone_dwells).intervals('2012:001', '2012:007')\n",
      "bad_times = ['{} {}'.format(*x) for x in bad_intervals]\n",
      "bad_times"
     ],
     "language": "python",
     "metadata": {},
     "outputs": []
    },
    {
     "cell_type": "code",
     "collapsed": false,
     "input": [
      "altitude = fetch.Msid('Dist_SatEarth', '2012:001', '2012:007')\n",
      "altitude.filter_bad_times(table=bad_times)\n",
      "plot_cxctime(altitude.times, altitude.vals, '.')\n",
      "grid()"
     ],
     "language": "python",
     "metadata": {},
     "outputs": []
    },
    {
     "cell_type": "code",
     "collapsed": false,
     "input": [],
     "language": "python",
     "metadata": {},
     "outputs": []
    }
   ],
   "metadata": {}
  }
 ]
}