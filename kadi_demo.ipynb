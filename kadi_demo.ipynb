{
 "metadata": {
  "name": "kadi_demo"
 },
 "nbformat": 3,
 "nbformat_minor": 0,
 "worksheets": [
  {
   "cells": [
    {
     "cell_type": "markdown",
     "metadata": {},
     "source": [
      "Kadi\n",
      "====\n",
      "\n",
      "What is Kadi?\n",
      "\n",
      "- **Database** of Chandra events\n",
      "\n",
      "  - Events in telemetry such as maneuvers, NPM dwells, obsids, mech movements,\n",
      "    momentum dumps, orbit events, etc.\n",
      "  - CAPs, DSN passes, dark cals, SCS107, safe modes, bright star hold, etc\n",
      "  - Chandra major events since launch\n",
      "  - Every load command run on-board since 2002, with a link to source load products\n",
      "  - The database is contained in easily transportable sqlite3 or HDF5 files.\n",
      "\n",
      "- **Python API** for accessing events for analysis and using with the Ska engineering archive\n",
      "- **Python tools** to maintain the Kadi database on the HEAD and Greta networks \n",
      "- **Web site** for browsing events on the icxc site or by a localhost server on GRETA.  This\n",
      "  will use the [Django web framework](https://www.djangoproject.com/) to provide query and administrative capabilities.\n",
      "- **RESTful web service** API on the icxc site."
     ]
    },
    {
     "cell_type": "markdown",
     "metadata": {},
     "source": [
      "Tables\n",
      "------\n",
      "\n",
      "### CAP\n",
      "\n",
      "    \"ifot_id\" integer NOT NULL PRIMARY KEY,\n",
      "    \"start\" varchar(21) NOT NULL,\n",
      "    \"stop\" varchar(21) NOT NULL,\n",
      "    \"num\" varchar(15) NOT NULL,\n",
      "    \"title\" text NOT NULL,\n",
      "    \"descr\" text NOT NULL,\n",
      "    \"notes\" text NOT NULL,\n",
      "    \"link\" varchar(250) NOT NULL\n",
      "\n",
      "### DSN comm\n",
      "\n",
      "    \"ifot_id\" integer NOT NULL PRIMARY KEY,\n",
      "    \"start\" varchar(21) NOT NULL,\n",
      "    \"stop\" varchar(21) NOT NULL,\n",
      "    \"bot\" varchar(4) NOT NULL,\n",
      "    \"eot\" varchar(4) NOT NULL,\n",
      "    \"activity\" varchar(30) NOT NULL,\n",
      "    \"config\" varchar(10) NOT NULL,\n",
      "    \"data_rate\" varchar(9) NOT NULL,\n",
      "    \"site\" varchar(12) NOT NULL,\n",
      "    \"soe\" varchar(4) NOT NULL,\n",
      "    \"station\" varchar(6) NOT NULL\n",
      "\n",
      "### Dump\n",
      "\n",
      "    \"start\" varchar(21) NOT NULL PRIMARY KEY,\n",
      "    \"stop\" varchar(21) NOT NULL,\n",
      "    \"tstart\" real NOT NULL,\n",
      "    \"tstop\" real NOT NULL,\n",
      "    \"dur\" real NOT NULL\n",
      "\n",
      "### Dwell\n",
      "\n",
      "    \"start\" varchar(21) NOT NULL PRIMARY KEY,\n",
      "    \"stop\" varchar(21) NOT NULL,\n",
      "    \"tstart\" real NOT NULL,\n",
      "    \"tstop\" real NOT NULL,\n",
      "    \"dur\" real NOT NULL,\n",
      "    \"rel_tstart\" real NOT NULL,\n",
      "    \"manvr_id\" varchar(21) NOT NULL REFERENCES \"events_manvr\" (\"start\")\n",
      "\n",
      "### Eclipse\n",
      "\n",
      "    \"start\" varchar(21) NOT NULL PRIMARY KEY,\n",
      "    \"stop\" varchar(21) NOT NULL,\n",
      "    \"tstart\" real NOT NULL,\n",
      "    \"tstop\" real NOT NULL,\n",
      "    \"dur\" real NOT NULL\n",
      "\n",
      "### FA move\n",
      "\n",
      "    \"start\" varchar(21) NOT NULL PRIMARY KEY,\n",
      "    \"stop\" varchar(21) NOT NULL,\n",
      "    \"tstart\" real NOT NULL,\n",
      "    \"tstop\" real NOT NULL,\n",
      "    \"dur\" real NOT NULL,\n",
      "    \"start_3fapos\" integer NOT NULL,\n",
      "    \"stop_3fapos\" integer NOT NULL\n",
      "\n",
      "### Major event\n",
      "\n",
      "    \"key\" varchar(24) NOT NULL PRIMARY KEY,\n",
      "    \"start\" varchar(8) NOT NULL,\n",
      "    \"date\" varchar(11) NOT NULL,\n",
      "    \"tstart\" real NOT NULL,\n",
      "    \"descr\" text NOT NULL,\n",
      "    \"note\" text NOT NULL,\n",
      "    \"source\" varchar(3) NOT NULL\n",
      "\n",
      "### Manvr\n",
      "\n",
      "    \"start\" varchar(21) NOT NULL PRIMARY KEY,\n",
      "    \"stop\" varchar(21) NOT NULL,\n",
      "    \"tstart\" real NOT NULL,\n",
      "    \"tstop\" real NOT NULL,\n",
      "    \"dur\" real NOT NULL,\n",
      "    \"prev_manvr_stop\" varchar(21),\n",
      "    \"prev_npnt_start\" varchar(21),\n",
      "    \"nman_start\" varchar(21),\n",
      "    \"manvr_start\" varchar(21),\n",
      "    \"manvr_stop\" varchar(21),\n",
      "    \"npnt_start\" varchar(21),\n",
      "    \"acq_start\" varchar(21),\n",
      "    \"guide_start\" varchar(21),\n",
      "    \"kalman_start\" varchar(21),\n",
      "    \"aca_proc_act_start\" varchar(21),\n",
      "    \"npnt_stop\" varchar(21),\n",
      "    \"next_nman_start\" varchar(21),\n",
      "    \"next_manvr_start\" varchar(21),\n",
      "    \"n_dwell\" integer NOT NULL,\n",
      "    \"n_acq\" integer NOT NULL,\n",
      "    \"n_guide\" integer NOT NULL,\n",
      "    \"n_kalman\" integer NOT NULL,\n",
      "    \"anomalous\" bool NOT NULL,\n",
      "    \"template\" varchar(16) NOT NULL,\n",
      "    \"start_ra\" real NOT NULL,\n",
      "    \"start_dec\" real NOT NULL,\n",
      "    \"start_roll\" real NOT NULL,\n",
      "    \"stop_ra\" real NOT NULL,\n",
      "    \"stop_dec\" real NOT NULL,\n",
      "    \"stop_roll\" real NOT NULL,\n",
      "    \"angle\" real NOT NULL\n",
      "\n",
      "### Manvr sequence\n",
      "\n",
      "This is a different type of event since it does not span an interval of time.\n",
      "\n",
      "    \"id\" integer NOT NULL PRIMARY KEY,\n",
      "    \"manvr_id\" varchar(21) NOT NULL REFERENCES \"events_manvr\" (\"start\"),\n",
      "    \"msid\" varchar(8) NOT NULL,\n",
      "    \"prev_val\" varchar(4) NOT NULL,\n",
      "    \"val\" varchar(4) NOT NULL,\n",
      "    \"date\" varchar(21) NOT NULL,\n",
      "    \"dt\" real NOT NULL,\n",
      "    \"time\" real NOT NULL,\n",
      "    \"prev_date\" varchar(21) NOT NULL,\n",
      "    \"prev_time\" real NOT NULL\n",
      "\n",
      "### Orbit\n",
      "\n",
      "    \"start\" varchar(21) NOT NULL,\n",
      "    \"stop\" varchar(21) NOT NULL,\n",
      "    \"tstart\" real NOT NULL,\n",
      "    \"tstop\" real NOT NULL,\n",
      "    \"dur\" real NOT NULL,\n",
      "    \"orbit_num\" integer NOT NULL PRIMARY KEY,\n",
      "    \"perigee\" varchar(21) NOT NULL,\n",
      "    \"apogee\" varchar(21) NOT NULL,\n",
      "    \"t_perigee\" real NOT NULL,\n",
      "    \"start_radzone\" varchar(21) NOT NULL,\n",
      "    \"stop_radzone\" varchar(21) NOT NULL,\n",
      "    \"dt_start_radzone\" real NOT NULL,\n",
      "    \"dt_stop_radzone\" real NOT NULL\n",
      "\n",
      "### Orbit point\n",
      "\n",
      "This is a different type of event since it does not span an interval of time.\n",
      "\n",
      "    \"id\" integer NOT NULL PRIMARY KEY,\n",
      "    \"orbit_id\" integer NOT NULL REFERENCES \"events_orbit\" (\"orbit_num\"),\n",
      "    \"date\" varchar(21) NOT NULL,\n",
      "    \"name\" varchar(9) NOT NULL,\n",
      "    \"orbit_num\" integer NOT NULL,\n",
      "    \"descr\" varchar(50) NOT NULL\n",
      "\n",
      "### Rad zone\n",
      "\n",
      "    \"start\" varchar(21) NOT NULL PRIMARY KEY,\n",
      "    \"stop\" varchar(21) NOT NULL,\n",
      "    \"tstart\" real NOT NULL,\n",
      "    \"tstop\" real NOT NULL,\n",
      "    \"dur\" real NOT NULL,\n",
      "    \"orbit_id\" integer NOT NULL REFERENCES \"events_orbit\" (\"orbit_num\"),\n",
      "    \"orbit_num\" integer NOT NULL\n",
      "\n",
      "### Safe sun\n",
      "\n",
      "    \"start\" varchar(21) NOT NULL PRIMARY KEY,\n",
      "    \"stop\" varchar(21) NOT NULL,\n",
      "    \"tstart\" real NOT NULL,\n",
      "    \"tstop\" real NOT NULL,\n",
      "    \"dur\" real NOT NULL,\n",
      "    \"notes\" text NOT NULL\n",
      "\n",
      "### SCS107\n",
      "\n",
      "    \"start\" varchar(21) NOT NULL PRIMARY KEY,\n",
      "    \"stop\" varchar(21) NOT NULL,\n",
      "    \"tstart\" real NOT NULL,\n",
      "    \"tstop\" real NOT NULL,\n",
      "    \"dur\" real NOT NULL,\n",
      "    \"notes\" text NOT NULL\n",
      "\n",
      "### TSC move\n",
      "\n",
      "    \"start\" varchar(21) NOT NULL PRIMARY KEY,\n",
      "    \"stop\" varchar(21) NOT NULL,\n",
      "    \"tstart\" real NOT NULL,\n",
      "    \"tstop\" real NOT NULL,\n",
      "    \"dur\" real NOT NULL,\n",
      "    \"start_3tscpos\" integer NOT NULL,\n",
      "    \"stop_3tscpos\" integer NOT NULL,\n",
      "    \"start_det\" varchar(6) NOT NULL,\n",
      "    \"stop_det\" varchar(6) NOT NULL,\n",
      "    \"max_pwm\" integer NOT NULL\n"
     ]
    },
    {
     "cell_type": "markdown",
     "metadata": {},
     "source": [
      "Getting events in Python\n",
      "------------------------"
     ]
    },
    {
     "cell_type": "code",
     "collapsed": false,
     "input": [
      "from kadi import events"
     ],
     "language": "python",
     "metadata": {},
     "outputs": [],
     "prompt_number": 1
    },
    {
     "cell_type": "code",
     "collapsed": false,
     "input": [
      "help(events)"
     ],
     "language": "python",
     "metadata": {},
     "outputs": [
      {
       "output_type": "stream",
       "stream": "stdout",
       "text": [
        "Help on package kadi.events in kadi:\n",
        "\n",
        "NAME\n",
        "    kadi.events - # from .models import *\n",
        "\n",
        "FILE\n",
        "    /data/baffin/tom/git/kadi/kadi/events/__init__.py\n",
        "\n",
        "PACKAGE CONTENTS\n",
        "    admin\n",
        "    json_field\n",
        "    manvr_templates\n",
        "    models\n",
        "    orbit_funcs\n",
        "    plot\n",
        "    query\n",
        "    scrape\n",
        "    tests\n",
        "    views\n",
        "\n",
        "DATA\n",
        "    caps = <kadi.events.query.EventQuery object>\n",
        "    dsn_comms = <kadi.events.query.EventQuery object>\n",
        "    dumps = <kadi.events.query.EventQuery object>\n",
        "    dwells = <kadi.events.query.EventQuery object>\n",
        "    eclipses = <kadi.events.query.EventQuery object>\n",
        "    fa_moves = <kadi.events.query.EventQuery object>\n",
        "    major_events = <kadi.events.query.EventQuery object>\n",
        "    manvrs = <kadi.events.query.EventQuery object>\n",
        "    obsids = <kadi.events.query.EventQuery object>\n",
        "    orbits = <kadi.events.query.EventQuery object>\n",
        "    rad_zones = <kadi.events.query.EventQuery object>\n",
        "    safe_suns = <kadi.events.query.EventQuery object>\n",
        "    scs107s = <kadi.events.query.EventQuery object>\n",
        "    tsc_moves = <kadi.events.query.EventQuery object>\n",
        "\n",
        "\n"
       ]
      }
     ],
     "prompt_number": 2
    },
    {
     "cell_type": "markdown",
     "metadata": {},
     "source": [
      "Find and filter\n",
      "----------------\n",
      "Each of the values in `DATA` is an `EventQuery` object that lets you access the events of that type.\n",
      "There are two object methods to do that:\n",
      "\n",
      "- `find(start, stop, **filter_kwargs)`: get a structured array for events between `start` and `stop` matching `filter_kwargs`\n",
      "- `filter(start, stop, **filter_kwargs)`: get a [Django QuerySet](https://docs.djangoproject.com/en/1.4/topics/db/queries/) for events between `start` and `stop` matching `filter_kwargs`"
     ]
    },
    {
     "cell_type": "markdown",
     "metadata": {},
     "source": [
      "### Find"
     ]
    },
    {
     "cell_type": "code",
     "collapsed": false,
     "input": [
      "tsc_moves = events.tsc_moves.filter('2012:001', '2012:004').table\n",
      "print tsc_moves\n",
      "print tsc_moves.dtype.names"
     ],
     "language": "python",
     "metadata": {},
     "outputs": [
      {
       "ename": "AttributeError",
       "evalue": "'QuerySet' object has no attribute 'table'",
       "output_type": "pyerr",
       "traceback": [
        "\u001b[1;31m---------------------------------------------------------------------------\u001b[0m\n\u001b[1;31mAttributeError\u001b[0m                            Traceback (most recent call last)",
        "\u001b[1;32m<ipython-input-31-def869c5266c>\u001b[0m in \u001b[0;36m<module>\u001b[1;34m()\u001b[0m\n\u001b[1;32m----> 1\u001b[1;33m \u001b[0mtsc_moves\u001b[0m \u001b[1;33m=\u001b[0m \u001b[0mevents\u001b[0m\u001b[1;33m.\u001b[0m\u001b[0mtsc_moves\u001b[0m\u001b[1;33m.\u001b[0m\u001b[0mfilter\u001b[0m\u001b[1;33m(\u001b[0m\u001b[1;34m'2012:001'\u001b[0m\u001b[1;33m,\u001b[0m \u001b[1;34m'2012:004'\u001b[0m\u001b[1;33m)\u001b[0m\u001b[1;33m.\u001b[0m\u001b[0mtable\u001b[0m\u001b[1;33m\u001b[0m\u001b[0m\n\u001b[0m\u001b[0;32m      2\u001b[0m \u001b[1;32mprint\u001b[0m \u001b[0mtsc_moves\u001b[0m\u001b[1;33m\u001b[0m\u001b[0m\n\u001b[0;32m      3\u001b[0m \u001b[1;32mprint\u001b[0m \u001b[0mtsc_moves\u001b[0m\u001b[1;33m.\u001b[0m\u001b[0mdtype\u001b[0m\u001b[1;33m.\u001b[0m\u001b[0mnames\u001b[0m\u001b[1;33m\u001b[0m\u001b[0m\n",
        "\u001b[1;31mAttributeError\u001b[0m: 'QuerySet' object has no attribute 'table'"
       ]
      },
      {
       "output_type": "stream",
       "stream": "stdout",
       "text": [
        "\u001b[0;31mERROR\u001b[0m: AttributeError: 'QuerySet' object has no attribute 'table' [IPython.core.interactiveshell]\n"
       ]
      }
     ],
     "prompt_number": 31
    },
    {
     "cell_type": "code",
     "collapsed": false,
     "input": [
      "tsc_moves = events.tsc_moves.all()  # with no args you get the full mission (from 2000)"
     ],
     "language": "python",
     "metadata": {},
     "outputs": [],
     "prompt_number": 4
    },
    {
     "cell_type": "code",
     "collapsed": false,
     "input": [
      "len(tsc_moves)"
     ],
     "language": "python",
     "metadata": {},
     "outputs": [
      {
       "output_type": "pyout",
       "prompt_number": 5,
       "text": [
        "8252"
       ]
      }
     ],
     "prompt_number": 5
    },
    {
     "cell_type": "code",
     "collapsed": false,
     "input": [
      "impska"
     ],
     "language": "python",
     "metadata": {},
     "outputs": [],
     "prompt_number": 6
    },
    {
     "cell_type": "code",
     "collapsed": false,
     "input": [
      "out = plot_cxctime(tsc_moves['tstart'], tsc_moves['max_pwm'], '.')\n",
      "ylim(-0.5, 12)"
     ],
     "language": "python",
     "metadata": {},
     "outputs": [
      {
       "output_type": "pyout",
       "prompt_number": 7,
       "text": [
        "(-0.5, 12)"
       ]
      },
      {
       "output_type": "display_data",
       "png": "[encoded data removed]"
      }
     ],
     "prompt_number": 7
    },
    {
     "cell_type": "code",
     "collapsed": false,
     "input": [
      "manvrs = events.manvrs.filter('2012:001').table"
     ],
     "language": "python",
     "metadata": {},
     "outputs": [],
     "prompt_number": 8
    },
    {
     "cell_type": "code",
     "collapsed": false,
     "input": [
      "out = plot_cxctime(manvrs['tstart'], manvrs['angle'], '.')"
     ],
     "language": "python",
     "metadata": {},
     "outputs": [
      {
       "output_type": "display_data",
       "png": "[encoded data removed]"
      }
     ],
     "prompt_number": 9
    },
    {
     "cell_type": "code",
     "collapsed": false,
     "input": [
      "out = hist(manvrs['angle'], bins=50)"
     ],
     "language": "python",
     "metadata": {},
     "outputs": [
      {
       "output_type": "display_data",
       "png": "[encoded data removed]"
      }
     ],
     "prompt_number": 10
    },
    {
     "cell_type": "code",
     "collapsed": false,
     "input": [
      "orbits = events.orbits.all().table\n",
      "out = plot_cxctime(orbits['tstart'], orbits['dt_start_radzone'], '.r')\n",
      "out = plot_cxctime(orbits['tstart'], orbits['dt_stop_radzone'], '.b')\n",
      "grid()"
     ],
     "language": "python",
     "metadata": {},
     "outputs": [
      {
       "output_type": "display_data",
       "png": "[encoded data removed]"
      }
     ],
     "prompt_number": 11
    },
    {
     "cell_type": "code",
     "collapsed": false,
     "input": [
      "print events.major_events.filter('2011:180', '2011:190').table"
     ],
     "language": "python",
     "metadata": {},
     "outputs": [
      {
       "output_type": "stream",
       "stream": "stdout",
       "text": [
        "          key             start   ... source\n",
        "------------------------ -------- ... ------\n",
        "0c4b9931172f6ed7efdc940c 2011:181 ...    FDB\n",
        "a43bb8dcfe6b3565a335bbe4 2011:182 ...    FDB\n",
        "4947c75f43a188735d42b93d 2011:182 ...    FDB\n",
        "d69247e1433c3b1db5ef1683 2011:182 ...    FDB\n",
        "f07df6f99b1eced487923c54 2011:182 ...    FDB\n",
        "643d4fcc01197c55fafcba57 2011:187 ...    FOT\n",
        "26ca2cbf51fb31fd00fef05f 2011:187 ...    FDB\n",
        "9ecde1f5d4edaf2d451d7223 2011:188 ...    FOT\n",
        "ec27baae28fc4446e4a3528b 2011:188 ...    FOT\n",
        "50fde7d223ad92bd86793bd5 2011:188 ...    FDB\n",
        "52bb3d29e2ab00b501c5224b 2011:189 ...    FOT\n",
        "c3306e118638a386d1055180 2011:189 ...    FDB\n",
        "b7964fdabbb48bc4fc679999 2011:190 ...    FDB\n"
       ]
      }
     ],
     "prompt_number": 12
    },
    {
     "cell_type": "code",
     "collapsed": false,
     "input": [
      "print events.major_events.filter(descr__icontains='safemode').table"
     ],
     "language": "python",
     "metadata": {},
     "outputs": [
      {
       "output_type": "stream",
       "stream": "stdout",
       "text": [
        "          key             start   ... source\n",
        "------------------------ -------- ... ------\n",
        "95912e673d24aaebf515c2ef 2000:048 ...    FOT\n",
        "f023ebca701cd52ae7f05c73 2000:048 ...    FDB\n",
        "132aded599e96baa3c61fe65 2001:262 ...    FDB\n",
        "296752600552985a986011b9 2002:008 ...    FDB\n",
        "c2d41ac51a51dabf5d9de8b6 2004:076 ...    FDB\n",
        "88d5c643eeba31c60eef11cd 2004:083 ...    FDB\n",
        "87279b8162ec38ea4785c7a0 2004:349 ...    FDB\n",
        "d5d03080d4f82422e9072338 2005:087 ...    FDB\n",
        "38f729c16e26afc98ac92059 2005:119 ...    FDB\n",
        "9c43a26d1fa7c6f94bdfd327 2005:207 ...    FDB\n",
        "16baacb98bc606058d78de0f 2006:115 ...    FDB\n",
        "20dd35dbb6df74acb5830c48 2007:346 ...    FDB\n",
        "ad8adf99ffda52a4570e6881 2009:034 ...    FDB\n",
        "23322eeeec40b2db27efcfd7 2009:344 ...    FDB\n",
        "643d4fcc01197c55fafcba57 2011:187 ...    FOT\n",
        "26ca2cbf51fb31fd00fef05f 2011:187 ...    FDB\n",
        "b7964fdabbb48bc4fc679999 2011:190 ...    FDB\n",
        "0962afca431f87fe2e3195d6 2011:191 ...    FDB\n",
        "a78cb81fb986b5e358b99156 2011:191 ...    FDB\n",
        "3dd5d7fb18a4a06daa6f201d 2012:150 ...    FOT\n",
        "97c47dc848d2d15758a3326e 2012:151 ...    FDB\n",
        "915a2186e2182cba0805a19c 2012:151 ...    FDB\n",
        "75b8eec73eb9db41b0deeb5e 2012:151 ...    FDB\n"
       ]
      }
     ],
     "prompt_number": 13
    },
    {
     "cell_type": "code",
     "collapsed": false,
     "input": [
      "print events.major_events.filter(descr__icontains='safe', source__exact='FOT').table"
     ],
     "language": "python",
     "metadata": {},
     "outputs": [
      {
       "output_type": "stream",
       "stream": "stdout",
       "text": [
        "          key             start   ... source\n",
        "------------------------ -------- ... ------\n",
        "95912e673d24aaebf515c2ef 2000:048 ...    FOT\n",
        "643d4fcc01197c55fafcba57 2011:187 ...    FOT\n",
        "3dd5d7fb18a4a06daa6f201d 2012:150 ...    FOT\n"
       ]
      }
     ],
     "prompt_number": 14
    },
    {
     "cell_type": "markdown",
     "metadata": {},
     "source": [
      "### Filter\n",
      "\n",
      "`filter()` brings you the full power of the Django **Object Relational Mapper**\n",
      "\n",
      "This includes the ability to chain filters, but more important the objects that are returned are not simple numpy structured arrays.  Instead they are model objects that can support capabilities like plotting and one-to-many database relationships.  This will be clear from the following examples."
     ]
    },
    {
     "cell_type": "code",
     "collapsed": false,
     "input": [
      "scs107s = events.major_events.filter(descr__icontains='scs #107', source__exact='FOT')\n",
      "print type(scs107s)\n",
      "print type(scs107s[0])"
     ],
     "language": "python",
     "metadata": {},
     "outputs": [
      {
       "output_type": "stream",
       "stream": "stdout",
       "text": [
        "<class 'kadi.events.models.QuerySet'>\n",
        "<class 'kadi.events.models.MajorEvent'>\n"
       ]
      }
     ],
     "prompt_number": 15
    },
    {
     "cell_type": "code",
     "collapsed": false,
     "input": [
      "scs107s"
     ],
     "language": "python",
     "metadata": {},
     "outputs": [
      {
       "output_type": "pyout",
       "prompt_number": 16,
       "text": [
        "<MajorEvent: 2000:157 (Jun-05) FOT: Manual SCS #107 run (ACIS packet timing problem ...)>\n",
        "<MajorEvent: 2000:194 (Jul-12) FOT: Manual SCS #107 run (High radiation)>\n",
        "<MajorEvent: 2001:098 (Apr-08) FOT: Manual SCS #107 run (High radiation)>\n",
        "<MajorEvent: 2001:118 (Apr-28) FOT: Manual SCS #107 run (High radiation)>\n",
        "<MajorEvent: 2001:294 (Oct-21) FOT: Manual SCS #107 run (High radiation)>\n",
        "<MajorEvent: 2001:298 (Oct-25) FOT: Manual SCS #107 run (High radiation)>\n",
        "<MajorEvent: 2001:324 (Nov-20) FOT: Manual SCS #107 run (High radiation)>\n",
        "<MajorEvent: 2001:336 (Dec-02) FOT: IEPHIN Hardware Failure Fla... (EPHIN counter anomaly set g...)>\n",
        "<MajorEvent: 2002:011 (Jan-11) FOT: Manual SCS #107 Run (High radiation)>\n",
        "<MajorEvent: 2002:077 (Mar-18) FOT: Manual SCS #107 run (High radiation)>\n",
        "<MajorEvent: 2002:092 (Apr-02) FOT: IEPHIN Hardware Failure Fla... (EPHIN counter anomaly set g...)>\n",
        "<MajorEvent: 2002:107 (Apr-17) FOT: Manual SCS #107 run (High radiation)>\n",
        "<MajorEvent: 2002:109 (Apr-19) FOT: Manual SCS #107 run (High radiation)>\n",
        "<MajorEvent: 2002:230 (Aug-18) FOT: Manual SCS #107 run (High radiation)>\n",
        "<MajorEvent: 2002:332 (Nov-28) FOT: Manual SCS #107 Run (High radiation)>\n",
        "<MajorEvent: 2003:149 (May-29) FOT: Manual SCS #107 Run (High radiation)>\n",
        "<MajorEvent: 2003:297 (Oct-24) FOT: Manual SCS #107 Run (High radiation)>\n",
        "<MajorEvent: 2003:326 (Nov-22) FOT: Manual SCS #107 Run (High radiation)>\n",
        "<MajorEvent: 2004:009 (Jan-09) FOT: Manual SCS #107 Run (High radiation)>\n",
        "<MajorEvent: 2004:021 (Jan-21) FOT: Manual SCS #107 Run (High radiation)>\n",
        "'...(remaining elements truncated)...'"
       ]
      }
     ],
     "prompt_number": 16
    },
    {
     "cell_type": "code",
     "collapsed": false,
     "input": [
      "for scs107 in scs107s:\n",
      "    print scs107.start, scs107.descr"
     ],
     "language": "python",
     "metadata": {},
     "outputs": [
      {
       "output_type": "stream",
       "stream": "stdout",
       "text": [
        "2000:157 Manual SCS #107 run\n",
        "2000:194 Manual SCS #107 run\n",
        "2001:098 Manual SCS #107 run\n",
        "2001:118 Manual SCS #107 run\n",
        "2001:294 Manual SCS #107 run\n",
        "2001:298 Manual SCS #107 run\n",
        "2001:324 Manual SCS #107 run\n",
        "2001:336 IEPHIN Hardware Failure Flag causes SCS #107 run\n",
        "2002:011 Manual SCS #107 Run\n",
        "2002:077 Manual SCS #107 run\n",
        "2002:092 IEPHIN Hardware Failure Flag #2 causes SCS #107 run\n",
        "2002:107 Manual SCS #107 run\n",
        "2002:109 Manual SCS #107 run\n",
        "2002:230 Manual SCS #107 run\n",
        "2002:332 Manual SCS #107 Run\n",
        "2003:149 Manual SCS #107 Run\n",
        "2003:297 Manual SCS #107 Run\n",
        "2003:326 Manual SCS #107 Run\n",
        "2004:009 Manual SCS #107 Run\n",
        "2004:021 Manual SCS #107 Run\n",
        "2004:215 Manual SCS #107 Run\n",
        "2004:312 Manual SCS #107 Run\n"
       ]
      }
     ],
     "prompt_number": 17
    },
    {
     "cell_type": "code",
     "collapsed": false,
     "input": [
      "scs107s = events.major_events.filter(descr__icontains='scs', source__exact='FOT')\n",
      "for scs107 in scs107s:\n",
      "    print scs107.start, scs107.descr"
     ],
     "language": "python",
     "metadata": {},
     "outputs": [
      {
       "output_type": "stream",
       "stream": "stdout",
       "text": [
        "2000:157 Manual SCS #107 run\n",
        "2000:194 Manual SCS #107 run\n",
        "2001:098 Manual SCS #107 run\n",
        "2001:118 Manual SCS #107 run\n",
        "2001:294 Manual SCS #107 run\n",
        "2001:298 Manual SCS #107 run\n",
        "2001:324 Manual SCS #107 run\n",
        "2001:336 IEPHIN Hardware Failure Flag causes SCS #107 run\n",
        "2002:011 Manual SCS #107 Run\n",
        "2002:077 Manual SCS #107 run\n",
        "2002:092 IEPHIN Hardware Failure Flag #2 causes SCS #107 run\n",
        "2002:107 Manual SCS #107 run\n",
        "2002:109 Manual SCS #107 run\n",
        "2002:230 Manual SCS #107 run\n",
        "2002:332 Manual SCS #107 Run\n",
        "2003:149 Manual SCS #107 Run\n",
        "2003:297 Manual SCS #107 Run\n",
        "2003:326 Manual SCS #107 Run\n",
        "2004:009 Manual SCS #107 Run\n",
        "2004:021 Manual SCS #107 Run\n",
        "2004:025 Uplink of modified SCS 104 Patch\n",
        "2004:215 Manual SCS #107 Run\n",
        "2004:236 Uplink of SCS 101\n",
        "2004:312 Manual SCS #107 Run\n",
        "2005:117 Uplink of patches to SCS 107 & 84\n",
        "2005:168 Uplink of replacement patches to SCS 107 & 84.\n",
        "2005:214 Manual SCS 107 run\n",
        "2005:326 Uplink of Flight Software patches for the E1300 trip limit and SCS 107\n",
        "2011:297 Manual SCS 107 run\n",
        "2012:058 Manual SCS 107 run\n",
        "2012:088 Uplink of patches to SCS-90 parameters\n",
        "2012:196 Ground-commanded SCS 107\n",
        "2012:247 Ground-commanded SCS 107\n",
        "2013:076 Ground-commanded SCS 107\n"
       ]
      }
     ],
     "prompt_number": 18
    },
    {
     "cell_type": "code",
     "collapsed": false,
     "input": [
      "scs107s = events.major_events.filter(descr__icontains='scs', source__exact='FOT').filter(descr__icontains='107')\n",
      "for scs107 in scs107s:\n",
      "    print scs107.start, scs107.descr"
     ],
     "language": "python",
     "metadata": {},
     "outputs": [
      {
       "output_type": "stream",
       "stream": "stdout",
       "text": [
        "2000:157 Manual SCS #107 run\n",
        "2000:194 Manual SCS #107 run\n",
        "2001:098 Manual SCS #107 run\n",
        "2001:118 Manual SCS #107 run\n",
        "2001:294 Manual SCS #107 run\n",
        "2001:298 Manual SCS #107 run\n",
        "2001:324 Manual SCS #107 run\n",
        "2001:336 IEPHIN Hardware Failure Flag causes SCS #107 run\n",
        "2002:011 Manual SCS #107 Run\n",
        "2002:077 Manual SCS #107 run\n",
        "2002:092 IEPHIN Hardware Failure Flag #2 causes SCS #107 run\n",
        "2002:107 Manual SCS #107 run\n",
        "2002:109 Manual SCS #107 run\n",
        "2002:230 Manual SCS #107 run\n",
        "2002:332 Manual SCS #107 Run\n",
        "2003:149 Manual SCS #107 Run\n",
        "2003:297 Manual SCS #107 Run\n",
        "2003:326 Manual SCS #107 Run\n",
        "2004:009 Manual SCS #107 Run\n",
        "2004:021 Manual SCS #107 Run\n",
        "2004:215 Manual SCS #107 Run\n",
        "2004:312 Manual SCS #107 Run\n",
        "2005:117 Uplink of patches to SCS 107 & 84\n",
        "2005:168 Uplink of replacement patches to SCS 107 & 84.\n",
        "2005:214 Manual SCS 107 run\n",
        "2005:326 Uplink of Flight Software patches for the E1300 trip limit and SCS 107\n",
        "2011:297 Manual SCS 107 run\n",
        "2012:058 Manual SCS 107 run\n",
        "2012:196 Ground-commanded SCS 107\n",
        "2012:247 Ground-commanded SCS 107\n",
        "2013:076 Ground-commanded SCS 107\n"
       ]
      }
     ],
     "prompt_number": 19
    },
    {
     "cell_type": "code",
     "collapsed": false,
     "input": [
      "manvrs = events.manvrs.filter('2011:001', '2011:030', n_dwell__exact=1, angle__gte=140)\n",
      "for manvr in manvrs:\n",
      "    print manvr"
     ],
     "language": "python",
     "metadata": {},
     "outputs": [
      {
       "output_type": "stream",
       "stream": "stdout",
       "text": [
        "start=2011:002:09:22:28.920 dur=2781 n_dwell=1 template=normal\n",
        "start=2011:005:15:58:49.909 dur=3025 n_dwell=1 template=normal\n",
        "start=2011:007:16:07:08.718 dur=2915 n_dwell=1 template=normal\n",
        "start=2011:008:01:27:21.545 dur=2864 n_dwell=1 template=normal\n",
        "start=2011:008:10:39:35.697 dur=2596 n_dwell=1 template=normal\n",
        "start=2011:010:04:54:33.405 dur=2992 n_dwell=1 template=normal\n",
        "start=2011:013:01:01:55.942 dur=2968 n_dwell=1 template=normal\n",
        "start=2011:013:09:52:38.594 dur=2554 n_dwell=1 template=normal\n",
        "start=2011:015:01:30:48.851 dur=2973 n_dwell=1 template=normal\n",
        "start=2011:016:11:37:49.483 dur=2783 n_dwell=1 template=normal\n",
        "start=2011:018:07:18:48.066 dur=2744 n_dwell=1 template=normal\n",
        "start=2011:025:23:37:42.875 dur=2819 n_dwell=1 template=normal\n",
        "start=2011:028:12:26:29.561 dur=2694 n_dwell=1 template=normal\n",
        "start=2011:029:15:04:18.841 dur=2584 n_dwell=1 template=normal\n"
       ]
      }
     ],
     "prompt_number": 20
    },
    {
     "cell_type": "code",
     "collapsed": false,
     "input": [
      "sorted({manvr.template for manvr in events.manvrs.filter()})"
     ],
     "language": "python",
     "metadata": {},
     "outputs": [
      {
       "output_type": "pyout",
       "prompt_number": 21,
       "text": [
        "[u'bsh_anom',\n",
        " u'delayed_npnt',\n",
        " u'four_acq:',\n",
        " u'interm_att',\n",
        " u'nman_dwell',\n",
        " u'normal',\n",
        " u'three_acq',\n",
        " u'three_acq_nman',\n",
        " u'two_acq',\n",
        " u'two_acq_nman',\n",
        " u'unknown']"
       ]
      }
     ],
     "prompt_number": 21
    },
    {
     "cell_type": "code",
     "collapsed": false,
     "input": [
      "manvr = manvrs[0]"
     ],
     "language": "python",
     "metadata": {},
     "outputs": [],
     "prompt_number": 22
    },
    {
     "cell_type": "code",
     "collapsed": false,
     "input": [
      "manvr"
     ],
     "language": "python",
     "metadata": {},
     "outputs": [
      {
       "output_type": "pyout",
       "prompt_number": 23,
       "text": [
        "<Manvr: start=2011:002:09:22:28.920 dur=2781 n_dwell=1 template=normal>"
       ]
      }
     ],
     "prompt_number": 23
    },
    {
     "cell_type": "code",
     "collapsed": false,
     "input": [
      "help(manvr)"
     ],
     "language": "python",
     "metadata": {},
     "outputs": [
      {
       "output_type": "stream",
       "stream": "stdout",
       "text": [
        "Help on Manvr in module kadi.events.models object:\n",
        "\n",
        "<class 'kadi.events.models.Manvr'>\n"
       ]
      }
     ],
     "prompt_number": 24
    },
    {
     "cell_type": "code",
     "collapsed": false,
     "input": [
      "manvr.plot()"
     ],
     "language": "python",
     "metadata": {},
     "outputs": [
      {
       "output_type": "display_data",
       "png": "[encoded data removed]"
      }
     ],
     "prompt_number": 25
    },
    {
     "cell_type": "code",
     "collapsed": false,
     "input": [
      "for manvrseq in manvr.manvrseq_set.all():\n",
      "    print manvrseq"
     ],
     "language": "python",
     "metadata": {},
     "outputs": [
      {
       "output_type": "stream",
       "stream": "stdout",
       "text": [
        "AOFATTMD: MNVR => STDY at 2011:002:08:36:18.857\n",
        "AOPCADMD: NMAN => NPNT at 2011:002:08:36:34.232\n",
        "AOPCADMD: NPNT => NMAN at 2011:002:09:22:19.182\n",
        "AOFATTMD: STDY => MNVR at 2011:002:09:22:29.432\n",
        "AOFATTMD: MNVR => STDY at 2011:002:10:08:50.257\n",
        "AOPSACPR: INAC => INIT at 2011:002:10:09:02.557\n",
        "AOPCADMD: NMAN => NPNT at 2011:002:10:09:05.632\n",
        "AOACASEQ: KALM => AQXN at 2011:002:10:09:05.632\n",
        "AOPSACPR: INIT => ACT  at 2011:002:10:09:10.757\n",
        "AOACASEQ: AQXN => GUID at 2011:002:10:09:43.557\n",
        "AOACASEQ: GUID => KALM at 2011:002:10:10:04.057\n",
        "AOPCADMD: NPNT => NMAN at 2011:002:12:44:09.558\n",
        "AOPSACPR: ACT  => INAC at 2011:002:12:44:09.558\n",
        "AOFATTMD: STDY => MNVR at 2011:002:12:44:19.808\n"
       ]
      }
     ],
     "prompt_number": 26
    },
    {
     "cell_type": "code",
     "collapsed": false,
     "input": [
      "events.queryset_to_table(manvr.manvrseq_set)"
     ],
     "language": "python",
     "metadata": {},
     "outputs": [
      {
       "html": [
        "<table><tr><th>id</th><th>manvr</th><th>msid</th><th>...</th><th>prev_date</th><th>prev_time</th></tr><tr><td>230435</td><td>2011:002:09:22:28.920</td><td>aofattmd</td><td>...</td><td>2011:002:08:36:17.832</td><td>410344644.016</td></tr><tr><td>230436</td><td>2011:002:09:22:28.920</td><td>aopcadmd</td><td>...</td><td>2011:002:08:36:33.207</td><td>410344659.391</td></tr><tr><td>230437</td><td>2011:002:09:22:28.920</td><td>aopcadmd</td><td>...</td><td>2011:002:09:22:18.157</td><td>410347404.341</td></tr><tr><td>230438</td><td>2011:002:09:22:28.920</td><td>aofattmd</td><td>...</td><td>2011:002:09:22:28.407</td><td>410347414.591</td></tr><tr><td>230439</td><td>2011:002:09:22:28.920</td><td>aofattmd</td><td>...</td><td>2011:002:10:08:49.232</td><td>410350195.416</td></tr><tr><td>230440</td><td>2011:002:09:22:28.920</td><td>aopsacpr</td><td>...</td><td>2011:002:10:08:54.357</td><td>410350200.541</td></tr><tr><td>230441</td><td>2011:002:09:22:28.920</td><td>aopcadmd</td><td>...</td><td>2011:002:10:09:04.607</td><td>410350210.791</td></tr><tr><td>230442</td><td>2011:002:09:22:28.920</td><td>aoacaseq</td><td>...</td><td>2011:002:10:09:04.607</td><td>410350210.791</td></tr><tr><td>230443</td><td>2011:002:09:22:28.920</td><td>aopsacpr</td><td>...</td><td>2011:002:10:09:02.557</td><td>410350208.741</td></tr><tr><td>230444</td><td>2011:002:09:22:28.920</td><td>aoacaseq</td><td>...</td><td>2011:002:10:09:42.532</td><td>410350248.716</td></tr><tr><td>230445</td><td>2011:002:09:22:28.920</td><td>aoacaseq</td><td>...</td><td>2011:002:10:10:03.032</td><td>410350269.216</td></tr><tr><td>230446</td><td>2011:002:09:22:28.920</td><td>aopcadmd</td><td>...</td><td>2011:002:12:44:08.533</td><td>410359514.717</td></tr><tr><td>230447</td><td>2011:002:09:22:28.920</td><td>aopsacpr</td><td>...</td><td>2011:002:12:44:01.358</td><td>410359507.542</td></tr><tr><td>230448</td><td>2011:002:09:22:28.920</td><td>aofattmd</td><td>...</td><td>2011:002:12:44:18.783</td><td>410359524.967</td></tr></table>"
       ],
       "output_type": "pyout",
       "prompt_number": 30,
       "text": [
        "<Table rows=14 names=('id','manvr','msid','prev_val','val','date','dt','time','prev_date','prev_time')>\n",
        "array([ (230435, '2011:002:09:22:28.920', 'aofattmd', 'MNVR', 'STDY', '2011:002:08:36:18.857', -5551.400286793709, 410344645.0411535, '2011:002:08:36:17.832', 410344644.01615345),\n",
        "       (230436, '2011:002:09:22:28.920', 'aopcadmd', 'NMAN', 'NPNT', '2011:002:08:36:34.232', -5536.025286078453, 410344660.41615427, '2011:002:08:36:33.207', 410344659.3911542),\n",
        "       (230437, '2011:002:09:22:28.920', 'aopcadmd', 'NPNT', 'NMAN', '2011:002:09:22:19.182', -2791.075144171715, 410347405.3662961, '2011:002:09:22:18.157', 410347404.3412961),\n",
        "       (230438, '2011:002:09:22:28.920', 'aofattmd', 'STDY', 'MNVR', '2011:002:09:22:29.432', -2780.8251436948776, 410347415.61629665, '2011:002:09:22:28.407', 410347414.59129655),\n",
        "       (230439, '2011:002:09:22:28.920', 'aofattmd', 'MNVR', 'STDY', '2011:002:10:08:50.257', 0.0, 410350196.4414403, '2011:002:10:08:49.232', 410350195.41644025),\n",
        "       (230440, '2011:002:09:22:28.920', 'aopsacpr', 'INAC', 'INIT', '2011:002:10:09:02.557', 8.7125004529953, 410350208.74144095, '2011:002:10:08:54.357', 410350200.54144055),\n",
        "       (230441, '2011:002:09:22:28.920', 'aopcadmd', 'NMAN', 'NPNT', '2011:002:10:09:05.632', 15.375000774860382, 410350211.8164411, '2011:002:10:09:04.607', 410350210.791441),\n",
        "       (230442, '2011:002:09:22:28.920', 'aoacaseq', 'KALM', 'AQXN', '2011:002:10:09:05.632', 15.375000774860382, 410350211.8164411, '2011:002:10:09:04.607', 410350210.791441),\n",
        "       (230443, '2011:002:09:22:28.920', 'aopsacpr', 'INIT', 'ACT ', '2011:002:10:09:10.757', 16.912500858306885, 410350216.94144136, '2011:002:10:09:02.557', 410350208.74144095),\n",
        "       (230444, '2011:002:09:22:28.920', 'aoacaseq', 'AQXN', 'GUID', '2011:002:10:09:43.557', 53.300002694129944, 410350249.74144304, '2011:002:10:09:42.532', 410350248.716443),\n",
        "       (230445, '2011:002:09:22:28.920', 'aoacaseq', 'GUID', 'KALM', '2011:002:10:10:04.057', 73.80000376701355, 410350270.2414441, '2011:002:10:10:03.032', 410350269.2164441),\n",
        "       (230446, '2011:002:09:22:28.920', 'aopcadmd', 'NPNT', 'NMAN', '2011:002:12:44:09.558', 9319.300481498241, 410359515.74192184, '2011:002:12:44:08.533', 410359514.71692175),\n",
        "       (230447, '2011:002:09:22:28.920', 'aopsacpr', 'ACT ', 'INAC', '2011:002:12:44:09.558', 9315.71298134327, 410359515.74192184, '2011:002:12:44:01.358', 410359507.5419214),\n",
        "       (230448, '2011:002:09:22:28.920', 'aofattmd', 'STDY', 'MNVR', '2011:002:12:44:19.808', 9329.550482034683, 410359525.9919223, '2011:002:12:44:18.783', 410359524.9669223)], \n",
        "      dtype=[('id', '<i8'), ('manvr', '|S21'), ('msid', '|S8'), ('prev_val', '|S4'), ('val', '|S4'), ('date', '|S21'), ('dt', '<f8'), ('time', '<f8'), ('prev_date', '|S21'), ('prev_time', '<f8')])"
       ]
      }
     ],
     "prompt_number": 30
    },
    {
     "cell_type": "markdown",
     "metadata": {},
     "source": [
      "Commands\n",
      "--------\n",
      "\n",
      "All the commands that have been run as stored commands via SCS slots 128 to 133 are stored in a single HDF5 file.  These are accessible via the `kadi.cmds` module.  (*To be changed to kadi.commands*).\n",
      "\n",
      "Technically speaking, \"all commands\" refers to every command that is part of a load segment that is on iFOT and was actually uplinked and run.  This is part of the Ska commanded states database.  There is a certain component of human caretaking to ensure that load stop times are correct, so small errors are possible (and likely) near times of anomalous load stops.\n",
      "\n",
      "One final limitation is that the star catalog parameters are not stored.  To do so would increase the file size by a factor of 10."
     ]
    },
    {
     "cell_type": "code",
     "collapsed": false,
     "input": [
      "from kadi import cmds as commands"
     ],
     "language": "python",
     "metadata": {},
     "outputs": []
    },
    {
     "cell_type": "markdown",
     "metadata": {},
     "source": [
      "### Find and filter\n",
      "\n",
      "The commands interface also features `find` and `filter` functions.  They share the same idea as the corresponding `events` versions, but the details are different."
     ]
    },
    {
     "cell_type": "markdown",
     "metadata": {},
     "source": [
      "**find**: `find(start, stop, **filter_kwargs)` returns a numpy array with `idx`, `date`, `type`, `tlmsid`, `scs`, `step`, and `timeline_id` fields"
     ]
    },
    {
     "cell_type": "code",
     "collapsed": false,
     "input": [
      "commands.find('2012:001:00:00:00', '2012:001:01:00:00')"
     ],
     "language": "python",
     "metadata": {},
     "outputs": []
    },
    {
     "cell_type": "code",
     "collapsed": false,
     "input": [
      "import pickle\n",
      "cmd_params = pickle.load(open('cmds.pkl'))"
     ],
     "language": "python",
     "metadata": {},
     "outputs": []
    },
    {
     "cell_type": "code",
     "collapsed": false,
     "input": [
      "len(cmd_params)"
     ],
     "language": "python",
     "metadata": {},
     "outputs": []
    },
    {
     "cell_type": "code",
     "collapsed": false,
     "input": [
      "cmd_params.items()[-1]"
     ],
     "language": "python",
     "metadata": {},
     "outputs": []
    },
    {
     "cell_type": "code",
     "collapsed": false,
     "input": [
      "rev_params = {v: k for k, v in cmd_params.items()}"
     ],
     "language": "python",
     "metadata": {},
     "outputs": []
    },
    {
     "cell_type": "code",
     "collapsed": false,
     "input": [
      "rev_params[34]"
     ],
     "language": "python",
     "metadata": {},
     "outputs": []
    },
    {
     "cell_type": "code",
     "collapsed": false,
     "input": [
      "commands.find('2012:001', '2012:005', tlmsid='WSPOW00000')"
     ],
     "language": "python",
     "metadata": {},
     "outputs": []
    },
    {
     "cell_type": "code",
     "collapsed": false,
     "input": [
      "commands.find('2012:001', '2012:002', tlmsid='AOUPTARQ')"
     ],
     "language": "python",
     "metadata": {},
     "outputs": []
    },
    {
     "cell_type": "markdown",
     "metadata": {},
     "source": [
      "**Filter**: `filter(start, stop, **filter_kwargs)` returns a `CmdList` object with **all** the parameters"
     ]
    },
    {
     "cell_type": "code",
     "collapsed": false,
     "input": [
      "cmds = commands.filter('2012:001', '2012:002', tlmsid='AOUPTARQ')\n",
      "print type(cmds)\n",
      "print cmds"
     ],
     "language": "python",
     "metadata": {},
     "outputs": []
    },
    {
     "cell_type": "markdown",
     "metadata": {},
     "source": [
      "Intervals\n",
      "----------\n",
      "\n",
      "The `QueryEvent` class provides a way to define complex bad time filters to the Ska engineering archive."
     ]
    },
    {
     "cell_type": "code",
     "collapsed": false,
     "input": [
      "manvr_intervals = events.manvrs.intervals('2012:001', '2012:002')\n",
      "manvr_intervals"
     ],
     "language": "python",
     "metadata": {},
     "outputs": []
    },
    {
     "cell_type": "code",
     "collapsed": false,
     "input": [
      "manvr_intervals = events.manvrs.intervals('2012:001', '2012:002')\n",
      "manvr_intervals"
     ],
     "language": "python",
     "metadata": {},
     "outputs": []
    },
    {
     "cell_type": "code",
     "collapsed": false,
     "input": [
      "dwell_intervals = events.dwells.intervals('2012:001', '2012:002')\n",
      "dwell_intervals"
     ],
     "language": "python",
     "metadata": {},
     "outputs": []
    },
    {
     "cell_type": "code",
     "collapsed": false,
     "input": [
      "(events.manvrs & events.tsc_moves).intervals('2012:001', '2012:002')"
     ],
     "language": "python",
     "metadata": {},
     "outputs": []
    },
    {
     "cell_type": "markdown",
     "metadata": {},
     "source": [
      "dwells = events.dwells\n",
      "dwells.interval_pad = -100\n",
      "tsc_moves = events.tsc_moves\n",
      "tsc_moves.interval_pad = 300\n",
      "dumps = events.dumps\n",
      "dumps.interval_pad = (10, 500)\n",
      "(dwells & ~(tsc_moves | dumps)).intervals('2012:001', '2012:002')"
     ]
    },
    {
     "cell_type": "code",
     "collapsed": false,
     "input": [
      "dwells = events.dwells\n",
      "dwells.interval_pad = -100\n",
      "tsc_moves = events.tsc_moves\n",
      "tsc_moves.interval_pad = 300\n",
      "dumps = events.dumps\n",
      "dumps.interval_pad = (10, 500)\n",
      "(dwells & ~(tsc_moves | dumps)).intervals('2012:001', '2012:002')"
     ],
     "language": "python",
     "metadata": {},
     "outputs": []
    },
    {
     "cell_type": "code",
     "collapsed": false,
     "input": [
      "dwells_inv = ~(dwells & ~(tsc_moves | dumps))\n",
      "bad_intervals = dwells_inv.intervals('2012:001', '2012:002')\n",
      "bad_times = ['{} {}'.format(*x) for x in bad_intervals]\n",
      "bad_times"
     ],
     "language": "python",
     "metadata": {},
     "outputs": []
    },
    {
     "cell_type": "code",
     "collapsed": false,
     "input": [
      "dat = fetch.Msid('aoattqt1', '2012:001', '2012:002')"
     ],
     "language": "python",
     "metadata": {},
     "outputs": []
    },
    {
     "cell_type": "code",
     "collapsed": false,
     "input": [
      "dat.filter_bad_times(table=bad_times)"
     ],
     "language": "python",
     "metadata": {},
     "outputs": []
    },
    {
     "cell_type": "code",
     "collapsed": false,
     "input": [
      "out = plot_cxctime(dat.times, dat.vals, '.')"
     ],
     "language": "python",
     "metadata": {},
     "outputs": []
    },
    {
     "cell_type": "code",
     "collapsed": false,
     "input": [
      "rad_zones = events.rad_zones\n",
      "rad_zone_dwells = rad_zones & dwells\n",
      "bad_intervals = (~rad_zone_dwells).intervals('2012:001', '2012:007')\n",
      "bad_times = ['{} {}'.format(*x) for x in bad_intervals]\n",
      "bad_times"
     ],
     "language": "python",
     "metadata": {},
     "outputs": []
    },
    {
     "cell_type": "code",
     "collapsed": false,
     "input": [
      "altitude = fetch.Msid('Dist_SatEarth', '2012:001', '2012:007')\n",
      "altitude.filter_bad_times(table=bad_times)\n",
      "plot_cxctime(altitude.times, altitude.vals, '.')\n",
      "grid()"
     ],
     "language": "python",
     "metadata": {},
     "outputs": []
    },
    {
     "cell_type": "code",
     "collapsed": false,
     "input": [],
     "language": "python",
     "metadata": {},
     "outputs": []
    }
   ],
   "metadata": {}
  }
 ]
}