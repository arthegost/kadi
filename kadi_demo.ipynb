{
 "metadata": {
  "name": "kadi_demo"
 },
 "nbformat": 3,
 "nbformat_minor": 0,
 "worksheets": [
  {
   "cells": [
    {
     "cell_type": "markdown",
     "metadata": {},
     "source": [
      "Kadi\n",
      "====\n",
      "\n",
      "What is Kadi?\n",
      "\n",
      "- **Database** of Chandra events\n",
      "\n",
      "  - Events in telemetry such as maneuvers, NPM dwells, obsids, mech movements,\n",
      "    momentum dumps, orbit events, etc.\n",
      "  - CAPs, DSN passes, dark cals, SCS107, safe modes, bright star hold, etc\n",
      "  - Chandra major events since launch\n",
      "  - Every load command run on-board since 2002, with a link to source load products\n",
      "  - The database is contained in easily transportable sqlite3 or HDF5 files.\n",
      "\n",
      "- **Python API** for accessing events for analysis and using with the Ska engineering archive\n",
      "- **Python tools** to maintain the Kadi database on the HEAD and Greta networks \n",
      "- **Web site** for browsing events on the icxc site or by a localhost server on GRETA.  This\n",
      "  will use the [Django web framework](https://www.djangoproject.com/) to provide query and administrative capabilities.\n",
      "- **RESTful web service** API on the icxc site."
     ]
    },
    {
     "cell_type": "markdown",
     "metadata": {},
     "source": [
      "Tables\n",
      "------\n",
      "\n",
      "### CAP\n",
      "\n",
      "    \"ifot_id\" integer NOT NULL PRIMARY KEY,\n",
      "    \"start\" varchar(21) NOT NULL,\n",
      "    \"stop\" varchar(21) NOT NULL,\n",
      "    \"num\" varchar(15) NOT NULL,\n",
      "    \"title\" text NOT NULL,\n",
      "    \"descr\" text NOT NULL,\n",
      "    \"notes\" text NOT NULL,\n",
      "    \"link\" varchar(250) NOT NULL\n",
      "\n",
      "### DSN comm\n",
      "\n",
      "    \"ifot_id\" integer NOT NULL PRIMARY KEY,\n",
      "    \"start\" varchar(21) NOT NULL,\n",
      "    \"stop\" varchar(21) NOT NULL,\n",
      "    \"bot\" varchar(4) NOT NULL,\n",
      "    \"eot\" varchar(4) NOT NULL,\n",
      "    \"activity\" varchar(30) NOT NULL,\n",
      "    \"config\" varchar(10) NOT NULL,\n",
      "    \"data_rate\" varchar(9) NOT NULL,\n",
      "    \"site\" varchar(12) NOT NULL,\n",
      "    \"soe\" varchar(4) NOT NULL,\n",
      "    \"station\" varchar(6) NOT NULL\n",
      "\n",
      "### Dump\n",
      "\n",
      "    \"start\" varchar(21) NOT NULL PRIMARY KEY,\n",
      "    \"stop\" varchar(21) NOT NULL,\n",
      "    \"tstart\" real NOT NULL,\n",
      "    \"tstop\" real NOT NULL,\n",
      "    \"dur\" real NOT NULL\n",
      "\n",
      "### Dwell\n",
      "\n",
      "    \"start\" varchar(21) NOT NULL PRIMARY KEY,\n",
      "    \"stop\" varchar(21) NOT NULL,\n",
      "    \"tstart\" real NOT NULL,\n",
      "    \"tstop\" real NOT NULL,\n",
      "    \"dur\" real NOT NULL,\n",
      "    \"rel_tstart\" real NOT NULL,\n",
      "    \"manvr_id\" varchar(21) NOT NULL REFERENCES \"events_manvr\" (\"start\")\n",
      "\n",
      "### Eclipse\n",
      "\n",
      "    \"start\" varchar(21) NOT NULL PRIMARY KEY,\n",
      "    \"stop\" varchar(21) NOT NULL,\n",
      "    \"tstart\" real NOT NULL,\n",
      "    \"tstop\" real NOT NULL,\n",
      "    \"dur\" real NOT NULL\n",
      "\n",
      "### FA move\n",
      "\n",
      "    \"start\" varchar(21) NOT NULL PRIMARY KEY,\n",
      "    \"stop\" varchar(21) NOT NULL,\n",
      "    \"tstart\" real NOT NULL,\n",
      "    \"tstop\" real NOT NULL,\n",
      "    \"dur\" real NOT NULL,\n",
      "    \"start_3fapos\" integer NOT NULL,\n",
      "    \"stop_3fapos\" integer NOT NULL\n",
      "\n",
      "### Major event\n",
      "\n",
      "    \"key\" varchar(24) NOT NULL PRIMARY KEY,\n",
      "    \"start\" varchar(8) NOT NULL,\n",
      "    \"date\" varchar(11) NOT NULL,\n",
      "    \"tstart\" real NOT NULL,\n",
      "    \"descr\" text NOT NULL,\n",
      "    \"note\" text NOT NULL,\n",
      "    \"source\" varchar(3) NOT NULL\n",
      "\n",
      "### Manvr\n",
      "\n",
      "    \"start\" varchar(21) NOT NULL PRIMARY KEY,\n",
      "    \"stop\" varchar(21) NOT NULL,\n",
      "    \"tstart\" real NOT NULL,\n",
      "    \"tstop\" real NOT NULL,\n",
      "    \"dur\" real NOT NULL,\n",
      "    \"prev_manvr_stop\" varchar(21),\n",
      "    \"prev_npnt_start\" varchar(21),\n",
      "    \"nman_start\" varchar(21),\n",
      "    \"manvr_start\" varchar(21),\n",
      "    \"manvr_stop\" varchar(21),\n",
      "    \"npnt_start\" varchar(21),\n",
      "    \"acq_start\" varchar(21),\n",
      "    \"guide_start\" varchar(21),\n",
      "    \"kalman_start\" varchar(21),\n",
      "    \"aca_proc_act_start\" varchar(21),\n",
      "    \"npnt_stop\" varchar(21),\n",
      "    \"next_nman_start\" varchar(21),\n",
      "    \"next_manvr_start\" varchar(21),\n",
      "    \"n_dwell\" integer NOT NULL,\n",
      "    \"n_acq\" integer NOT NULL,\n",
      "    \"n_guide\" integer NOT NULL,\n",
      "    \"n_kalman\" integer NOT NULL,\n",
      "    \"anomalous\" bool NOT NULL,\n",
      "    \"template\" varchar(16) NOT NULL,\n",
      "    \"start_ra\" real NOT NULL,\n",
      "    \"start_dec\" real NOT NULL,\n",
      "    \"start_roll\" real NOT NULL,\n",
      "    \"stop_ra\" real NOT NULL,\n",
      "    \"stop_dec\" real NOT NULL,\n",
      "    \"stop_roll\" real NOT NULL,\n",
      "    \"angle\" real NOT NULL\n",
      "\n",
      "### Manvr sequence\n",
      "\n",
      "This is a different type of event since it does not span an interval of time.\n",
      "\n",
      "    \"id\" integer NOT NULL PRIMARY KEY,\n",
      "    \"manvr_id\" varchar(21) NOT NULL REFERENCES \"events_manvr\" (\"start\"),\n",
      "    \"msid\" varchar(8) NOT NULL,\n",
      "    \"prev_val\" varchar(4) NOT NULL,\n",
      "    \"val\" varchar(4) NOT NULL,\n",
      "    \"date\" varchar(21) NOT NULL,\n",
      "    \"dt\" real NOT NULL,\n",
      "    \"time\" real NOT NULL,\n",
      "    \"prev_date\" varchar(21) NOT NULL,\n",
      "    \"prev_time\" real NOT NULL\n",
      "\n",
      "### Orbit\n",
      "\n",
      "    \"start\" varchar(21) NOT NULL,\n",
      "    \"stop\" varchar(21) NOT NULL,\n",
      "    \"tstart\" real NOT NULL,\n",
      "    \"tstop\" real NOT NULL,\n",
      "    \"dur\" real NOT NULL,\n",
      "    \"orbit_num\" integer NOT NULL PRIMARY KEY,\n",
      "    \"perigee\" varchar(21) NOT NULL,\n",
      "    \"apogee\" varchar(21) NOT NULL,\n",
      "    \"t_perigee\" real NOT NULL,\n",
      "    \"start_radzone\" varchar(21) NOT NULL,\n",
      "    \"stop_radzone\" varchar(21) NOT NULL,\n",
      "    \"dt_start_radzone\" real NOT NULL,\n",
      "    \"dt_stop_radzone\" real NOT NULL\n",
      "\n",
      "### Orbit point\n",
      "\n",
      "This is a different type of event since it does not span an interval of time.\n",
      "\n",
      "    \"id\" integer NOT NULL PRIMARY KEY,\n",
      "    \"orbit_id\" integer NOT NULL REFERENCES \"events_orbit\" (\"orbit_num\"),\n",
      "    \"date\" varchar(21) NOT NULL,\n",
      "    \"name\" varchar(9) NOT NULL,\n",
      "    \"orbit_num\" integer NOT NULL,\n",
      "    \"descr\" varchar(50) NOT NULL\n",
      "\n",
      "### Rad zone\n",
      "\n",
      "    \"start\" varchar(21) NOT NULL PRIMARY KEY,\n",
      "    \"stop\" varchar(21) NOT NULL,\n",
      "    \"tstart\" real NOT NULL,\n",
      "    \"tstop\" real NOT NULL,\n",
      "    \"dur\" real NOT NULL,\n",
      "    \"orbit_id\" integer NOT NULL REFERENCES \"events_orbit\" (\"orbit_num\"),\n",
      "    \"orbit_num\" integer NOT NULL\n",
      "\n",
      "### Safe sun\n",
      "\n",
      "    \"start\" varchar(21) NOT NULL PRIMARY KEY,\n",
      "    \"stop\" varchar(21) NOT NULL,\n",
      "    \"tstart\" real NOT NULL,\n",
      "    \"tstop\" real NOT NULL,\n",
      "    \"dur\" real NOT NULL,\n",
      "    \"notes\" text NOT NULL\n",
      "\n",
      "### SCS107\n",
      "\n",
      "    \"start\" varchar(21) NOT NULL PRIMARY KEY,\n",
      "    \"stop\" varchar(21) NOT NULL,\n",
      "    \"tstart\" real NOT NULL,\n",
      "    \"tstop\" real NOT NULL,\n",
      "    \"dur\" real NOT NULL,\n",
      "    \"notes\" text NOT NULL\n",
      "\n",
      "### TSC move\n",
      "\n",
      "    \"start\" varchar(21) NOT NULL PRIMARY KEY,\n",
      "    \"stop\" varchar(21) NOT NULL,\n",
      "    \"tstart\" real NOT NULL,\n",
      "    \"tstop\" real NOT NULL,\n",
      "    \"dur\" real NOT NULL,\n",
      "    \"start_3tscpos\" integer NOT NULL,\n",
      "    \"stop_3tscpos\" integer NOT NULL,\n",
      "    \"start_det\" varchar(6) NOT NULL,\n",
      "    \"stop_det\" varchar(6) NOT NULL,\n",
      "    \"max_pwm\" integer NOT NULL\n"
     ]
    },
    {
     "cell_type": "markdown",
     "metadata": {},
     "source": [
      "Getting events in Python\n",
      "------------------------"
     ]
    },
    {
     "cell_type": "code",
     "collapsed": false,
     "input": [
      "from kadi import events"
     ],
     "language": "python",
     "metadata": {},
     "outputs": [],
     "prompt_number": 107
    },
    {
     "cell_type": "code",
     "collapsed": false,
     "input": [
      "help(events)"
     ],
     "language": "python",
     "metadata": {},
     "outputs": [
      {
       "output_type": "stream",
       "stream": "stdout",
       "text": [
        "Help on package kadi.events in kadi:\n",
        "\n",
        "NAME\n",
        "    kadi.events - # from .models import *\n",
        "\n",
        "FILE\n",
        "    /data/baffin/tom/git/kadi/kadi/events/__init__.py\n",
        "\n",
        "PACKAGE CONTENTS\n",
        "    _update_events\n",
        "    admin\n",
        "    json_field\n",
        "    manvr_templates\n",
        "    models\n",
        "    occweb\n",
        "    orbit\n",
        "    orbit_funcs\n",
        "    plot\n",
        "    query\n",
        "    scrape\n",
        "    tests\n",
        "    update_events\n",
        "    views\n",
        "\n",
        "DATA\n",
        "    caps = <kadi.events.query.EventQuery object>\n",
        "    dsn_comms = <kadi.events.query.EventQuery object>\n",
        "    dumps = <kadi.events.query.EventQuery object>\n",
        "    dwells = <kadi.events.query.EventQuery object>\n",
        "    eclipses = <kadi.events.query.EventQuery object>\n",
        "    fa_moves = <kadi.events.query.EventQuery object>\n",
        "    major_events = <kadi.events.query.EventQuery object>\n",
        "    manvrs = <kadi.events.query.EventQuery object>\n",
        "    orbits = <kadi.events.query.EventQuery object>\n",
        "    rad_zones = <kadi.events.query.EventQuery object>\n",
        "    safe_suns = <kadi.events.query.EventQuery object>\n",
        "    scs107s = <kadi.events.query.EventQuery object>\n",
        "    tsc_moves = <kadi.events.query.EventQuery object>\n",
        "\n",
        "\n"
       ]
      }
     ],
     "prompt_number": 108
    },
    {
     "cell_type": "markdown",
     "metadata": {},
     "source": [
      "Find and filter\n",
      "----------------\n",
      "Each of the values in `DATA` is an `EventQuery` object that lets you access the events of that type.\n",
      "There are two object methods to do that:\n",
      "\n",
      "- `find(start, stop, **filter_kwargs)`: get a structured array for events between `start` and `stop` matching `filter_kwargs`\n",
      "- `filter(start, stop, **filter_kwargs)`: get a [Django QuerySet](https://docs.djangoproject.com/en/1.4/topics/db/queries/) for events between `start` and `stop` matching `filter_kwargs`"
     ]
    },
    {
     "cell_type": "markdown",
     "metadata": {},
     "source": [
      "### Filter"
     ]
    },
    {
     "cell_type": "code",
     "collapsed": false,
     "input": [
      "tsc_moves = events.tsc_moves.find('2012:001', '2012:004')\n",
      "print tsc_moves\n",
      "print tsc_moves.dtype.names"
     ],
     "language": "python",
     "metadata": {},
     "outputs": [
      {
       "output_type": "stream",
       "stream": "stdout",
       "text": [
        "[ ('2012:001:18:21:31.715', '2012:001:18:22:04.515', 441829357.8993178, 441829390.69931954, 32.80000174045563, 75624, 92903, 'ACIS-S', 'ACIS-I', 10)\n",
        " ('2012:002:02:50:28.517', '2012:002:02:54:50.917', 441859894.70093125, 441860157.1009451, 262.4000138640404, 92903, -99616, 'ACIS-I', ' HRC-S', 10)\n",
        " ('2012:002:12:20:06.119', '2012:002:12:24:28.519', 441894072.302737, 441894334.70275086, 262.4000138640404, -99616, 75623, ' HRC-S', 'ACIS-S', 4)\n",
        " ('2012:003:16:17:49.324', '2012:003:16:18:22.124', 441994735.5080557, 441994768.3080574, 32.80000174045563, 75623, 92903, 'ACIS-S', 'ACIS-I', 9)\n",
        " ('2012:003:22:19:42.925', '2012:003:22:20:15.725', 442016449.1091994, 442016481.90920115, 32.80000174045563, 92903, 75624, 'ACIS-I', 'ACIS-S', 10)]\n",
        "('start', 'stop', 'tstart', 'tstop', 'dur', 'start_3tscpos', 'stop_3tscpos', 'start_det', 'stop_det', 'max_pwm')\n"
       ]
      }
     ],
     "prompt_number": 109
    },
    {
     "cell_type": "code",
     "collapsed": false,
     "input": [
      "tsc_moves = events.tsc_moves.find()  # with no args you get the full mission (from 2000)"
     ],
     "language": "python",
     "metadata": {},
     "outputs": [],
     "prompt_number": 110
    },
    {
     "cell_type": "code",
     "collapsed": false,
     "input": [
      "len(tsc_moves)"
     ],
     "language": "python",
     "metadata": {},
     "outputs": [
      {
       "output_type": "pyout",
       "prompt_number": 111,
       "text": [
        "8060"
       ]
      }
     ],
     "prompt_number": 111
    },
    {
     "cell_type": "code",
     "collapsed": false,
     "input": [
      "impska"
     ],
     "language": "python",
     "metadata": {},
     "outputs": [],
     "prompt_number": 112
    },
    {
     "cell_type": "code",
     "collapsed": false,
     "input": [
      "out = plot_cxctime(tsc_moves['tstart'], tsc_moves['max_pwm'], '.')\n",
      "ylim(-0.5, 12)"
     ],
     "language": "python",
     "metadata": {},
     "outputs": [
      {
       "output_type": "pyout",
       "prompt_number": 113,
       "text": [
        "(-0.5, 12)"
       ]
      },
      {
       "output_type": "display_data",
       "png": "[encoded data removed]"
      }
     ],
     "prompt_number": 113
    },
    {
     "cell_type": "code",
     "collapsed": false,
     "input": [
      "manvrs = events.manvrs.find('2012:001')"
     ],
     "language": "python",
     "metadata": {},
     "outputs": [],
     "prompt_number": 114
    },
    {
     "cell_type": "code",
     "collapsed": false,
     "input": [
      "out = plot_cxctime(manvrs['tstart'], manvrs['angle'], '.')"
     ],
     "language": "python",
     "metadata": {},
     "outputs": [
      {
       "output_type": "display_data",
       "png": "[encoded data removed]"
      }
     ],
     "prompt_number": 115
    },
    {
     "cell_type": "code",
     "collapsed": false,
     "input": [
      "out = hist(manvrs['angle'], bins=50)"
     ],
     "language": "python",
     "metadata": {},
     "outputs": [
      {
       "output_type": "display_data",
       "png": "[encoded data removed]"
      }
     ],
     "prompt_number": 116
    },
    {
     "cell_type": "code",
     "collapsed": false,
     "input": [
      "orbits = events.orbits.find()\n",
      "out = plot_cxctime(orbits['tstart'], orbits['dt_start_radzone'], '.r')\n",
      "out = plot_cxctime(orbits['tstart'], orbits['dt_stop_radzone'], '.b')\n",
      "grid()"
     ],
     "language": "python",
     "metadata": {},
     "outputs": [
      {
       "output_type": "display_data",
       "png": "[encoded data removed]"
      }
     ],
     "prompt_number": 117
    },
    {
     "cell_type": "code",
     "collapsed": false,
     "input": [
      "print events.major_events.find('2011:180', '2011:190')"
     ],
     "language": "python",
     "metadata": {},
     "outputs": [
      {
       "output_type": "stream",
       "stream": "stdout",
       "text": [
        "[ ('0c4b9931172f6ed7efdc940c', '2011:181', '2011-Jun-30', 425825223.18399996, 'CalDB 4.4.5 release', '', 'FDB')\n",
        " ('a43bb8dcfe6b3565a335bbe4', '2011:182', '2011-Jul-01', 425911624.18399996, 'Lunar eclipse', '', 'FDB')\n",
        " ('4947c75f43a188735d42b93d', '2011:182', '2011-Jul-01', 425911625.18399996, 'Clear EPS glitch counters', 'CAP 1036B', 'FDB')\n",
        " ('d69247e1433c3b1db5ef1683', '2011:182', '2011-Jul-01', 425911626.18399996, 'Disable SCS 29', 'CAP 893A', 'FDB')\n",
        " ('f07df6f99b1eced487923c54', '2011:182', '2011-Jul-01', 425911627.18399996, 'Short eclipse flag to false', 'CAP 899', 'FDB')\n",
        " ('643d4fcc01197c55fafcba57', '2011:187', '2011-Jul-06', 426341223.18399996, 'Safemode #4', 'Elevated attitude errors at end of maneuver near perigee led to stale data that tripped Spacecraft Momentum Monitor', 'FOT')\n",
        " ('26ca2cbf51fb31fd00fef05f', '2011:187', '2011-Jul-06', 426343628.18399996, 'Autonomous Safemode occurs at 8:28 AM EDT', '', 'FDB')\n",
        " ('9ecde1f5d4edaf2d451d7223', '2011:188', '2011-Jul-07', 426427624.18399996, 'SSR Rollover', 'Ground commanded rollover to preserve undumped data on SSR-A.', 'FOT')\n",
        " ('ec27baae28fc4446e4a3528b', '2011:188', '2011-Jul-07', 426427625.18399996, 'Uplink of OBC-B patch to SSR-A playback pointer', 'PR-293 repositioned playback pointer to recover missing data from SSR-A; patch backed out when SSR dump complete.', 'FOT')\n",
        " ('50fde7d223ad92bd86793bd5', '2011:188', '2011-Jul-07', 426430029.18399996, 'Uplink SSR-A playback pointer reset patch', 'CAP 1192, FSW PR 293', 'FDB')\n",
        " ('52bb3d29e2ab00b501c5224b', '2011:189', '2011-Jul-08', 426514026.18399996, 'Uplink of CPE-A patch to zero yaw bias', 'PR-253 uplinked to more effectively manage momentum through perigee while in safemode.', 'FOT')\n",
        " ('c3306e118638a386d1055180', '2011:189', '2011-Jul-08', 426516430.18399996, 'Uplink CPE patch for zero yaw bias', 'CAP 1193, FSW PR 253', 'FDB')\n",
        " ('b7964fdabbb48bc4fc679999', '2011:190', '2011-Jul-09', 426602831.18399996, 'Safemode recovery complete at 6:30 PM EDT', 'CAP 1195', 'FDB')]\n"
       ]
      }
     ],
     "prompt_number": 118
    },
    {
     "cell_type": "code",
     "collapsed": false,
     "input": [
      "print events.major_events.find(descr__icontains='safemode')"
     ],
     "language": "python",
     "metadata": {},
     "outputs": [
      {
       "output_type": "stream",
       "stream": "stdout",
       "text": [
        "[ ('cbee148091ef91fb9eb01ecb', '1999:229', '1999-Aug-17', 51278464.184, 'Safemode#1', 'Malformed segmented maneuver trips Attitude and Rate Error Monitor', 'FOT')\n",
        " ('b4b926d943e7edcda71e7bd4', '1999:269', '1999-Sep-26', 54734467.184, 'Safemode#2', 'Latent flight software problem trips S/C Momentum Monitor with SIM move', 'FOT')\n",
        " ('95912e673d24aaebf515c2ef', '2000:048', '2000-Feb-17', 67176072.184, 'Safemode#3', 'Out of sequence targetquat. update trips Attitude and Rate Error Monitor', 'FOT')\n",
        " ('f023ebca701cd52ae7f05c73', '2000:048', '2000-Feb-17', 67177122.184, 'Safemode #3 triggered during Dark Current Cal procedure', '', 'FDB')\n",
        " ('132aded599e96baa3c61fe65', '2001:262', '2001-Sep-19', 117289392.184, 'Safemode Recovery Training Simulation (2 days)', '', 'FDB')\n",
        " ('296752600552985a986011b9', '2002:008', '2002-Jan-08', 126879870.184, 'Safemode Recovery Training Simulation (2 days)', '', 'FDB')\n",
        " ('c2d41ac51a51dabf5d9de8b6', '2004:076', '2004-Mar-16', 195827481.184, 'Safemode Sim (cut short due to ASVT hardware issue)', '', 'FDB')\n",
        " ('88d5c643eeba31c60eef11cd', '2004:083', '2004-Mar-23', 196432283.184, 'Safemode Sim', '', 'FDB')\n",
        " ('87279b8162ec38ea4785c7a0', '2004:349', '2004-Dec-14', 219414811.184, 'Safemode Recovery SIM (2 days)', '', 'FDB')\n",
        " ('d5d03080d4f82422e9072338', '2005:087', '2005-Mar-28', 228400443.184, 'Safemode Simulation (2 days)', '', 'FDB')\n",
        " ('38f729c16e26afc98ac92059', '2005:119', '2005-Apr-29', 231165255.184, 'Black phone safemode sim to mitigate voice switch outage', '', 'FDB')\n",
        " ('9c43a26d1fa7c6f94bdfd327', '2005:207', '2005-Jul-26', 238768494.184, 'Safemode Simulation (2 days)', '', 'FDB')\n",
        " ('16baacb98bc606058d78de0f', '2006:115', '2006-Apr-25', 262355811.184, 'Safemode Simulation', '', 'FDB')\n",
        " ('20dd35dbb6df74acb5830c48', '2007:346', '2007-Dec-12', 313850400.184, 'Management safemode simulation', '', 'FDB')\n",
        " ('ad8adf99ffda52a4570e6881', '2009:034', '2009-Feb-03', 350052140.18399996, 'Safemode recovery simulation to exercise backup OCC', '', 'FDB')\n",
        " ('23322eeeec40b2db27efcfd7', '2009:344', '2009-Dec-10', 376836238.18399996, 'Safemode Training Simulation', '', 'FDB')\n",
        " ('643d4fcc01197c55fafcba57', '2011:187', '2011-Jul-06', 426341223.18399996, 'Safemode #4', 'Elevated attitude errors at end of maneuver near perigee led to stale data that tripped Spacecraft Momentum Monitor', 'FOT')\n",
        " ('26ca2cbf51fb31fd00fef05f', '2011:187', '2011-Jul-06', 426343628.18399996, 'Autonomous Safemode occurs at 8:28 AM EDT', '', 'FDB')\n",
        " ('b7964fdabbb48bc4fc679999', '2011:190', '2011-Jul-09', 426602831.18399996, 'Safemode recovery complete at 6:30 PM EDT', 'CAP 1195', 'FDB')\n",
        " ('0962afca431f87fe2e3195d6', '2011:191', '2011-Jul-10', 426689233.18399996, 'Post-safemode momentum dump', 'CAP 1197', 'FDB')\n",
        " ('a78cb81fb986b5e358b99156', '2011:191', '2011-Jul-10', 426689235.18399996, 'Post-safemode recovery cleanup', 'CAP 1198', 'FDB')\n",
        " ('3dd5d7fb18a4a06daa6f201d', '2012:150', '2012-May-29', 454680458.18399996, 'Safemode #5', 'Bad FSS data at an attitude where the the Sun was near the edge of the FSS field of view led to a trip of the Sun Position Monitor', 'FOT')\n",
        " ('97c47dc848d2d15758a3326e', '2012:151', '2012-May-30', 454769383.18399996, 'Safemode recovery complete at 9:30 AM EDT', 'CAP 1243', 'FDB')\n",
        " ('915a2186e2182cba0805a19c', '2012:151', '2012-May-30', 454769386.18399996, 'Post-safemode momentum dump', 'CAP 1244', 'FDB')\n",
        " ('75b8eec73eb9db41b0deeb5e', '2012:151', '2012-May-30', 454769387.18399996, 'Post-safemode recovery cleanup', 'CAP 1245', 'FDB')]\n"
       ]
      }
     ],
     "prompt_number": 119
    },
    {
     "cell_type": "code",
     "collapsed": false,
     "input": [
      "print events.major_events.find(descr__icontains='safe', source__exact='FOT')"
     ],
     "language": "python",
     "metadata": {},
     "outputs": [
      {
       "output_type": "stream",
       "stream": "stdout",
       "text": [
        "[ ('cbee148091ef91fb9eb01ecb', '1999:229', '1999-Aug-17', 51278464.184, 'Safemode#1', 'Malformed segmented maneuver trips Attitude and Rate Error Monitor', 'FOT')\n",
        " ('b4b926d943e7edcda71e7bd4', '1999:269', '1999-Sep-26', 54734467.184, 'Safemode#2', 'Latent flight software problem trips S/C Momentum Monitor with SIM move', 'FOT')\n",
        " ('95912e673d24aaebf515c2ef', '2000:048', '2000-Feb-17', 67176072.184, 'Safemode#3', 'Out of sequence targetquat. update trips Attitude and Rate Error Monitor', 'FOT')\n",
        " ('643d4fcc01197c55fafcba57', '2011:187', '2011-Jul-06', 426341223.18399996, 'Safemode #4', 'Elevated attitude errors at end of maneuver near perigee led to stale data that tripped Spacecraft Momentum Monitor', 'FOT')\n",
        " ('3dd5d7fb18a4a06daa6f201d', '2012:150', '2012-May-29', 454680458.18399996, 'Safemode #5', 'Bad FSS data at an attitude where the the Sun was near the edge of the FSS field of view led to a trip of the Sun Position Monitor', 'FOT')]\n"
       ]
      }
     ],
     "prompt_number": 120
    },
    {
     "cell_type": "markdown",
     "metadata": {},
     "source": [
      "### Filter\n",
      "\n",
      "`filter()` brings you the full power of the Django **Object Relational Mapper**\n",
      "\n",
      "This includes the ability to chain filters, but more important the objects that are returned are not simple numpy structured arrays.  Instead they are model objects that can support capabilities like plotting and one-to-many database relationships.  This will be clear from the following examples."
     ]
    },
    {
     "cell_type": "code",
     "collapsed": false,
     "input": [
      "scs107s = events.major_events.filter(descr__icontains='scs #107', source__exact='FOT')\n",
      "print type(scs107s)\n",
      "print type(scs107s[0])"
     ],
     "language": "python",
     "metadata": {},
     "outputs": [
      {
       "output_type": "stream",
       "stream": "stdout",
       "text": [
        "<class 'django.db.models.query.QuerySet'>\n",
        "<class 'kadi.events.models.MajorEvent'>\n"
       ]
      }
     ],
     "prompt_number": 121
    },
    {
     "cell_type": "code",
     "collapsed": false,
     "input": [
      "for scs107 in scs107s:\n",
      "    print scs107.start, scs107.descr"
     ],
     "language": "python",
     "metadata": {},
     "outputs": [
      {
       "output_type": "stream",
       "stream": "stdout",
       "text": [
        "2000:157 Manual SCS #107 run\n",
        "2000:194 Manual SCS #107 run\n",
        "2001:098 Manual SCS #107 run\n",
        "2001:118 Manual SCS #107 run\n",
        "2001:294 Manual SCS #107 run\n",
        "2001:298 Manual SCS #107 run\n",
        "2001:324 Manual SCS #107 run\n",
        "2001:336 IEPHIN Hardware Failure Flag causes SCS #107 run\n",
        "2002:011 Manual SCS #107 Run\n",
        "2002:077 Manual SCS #107 run\n",
        "2002:092 IEPHIN Hardware Failure Flag #2 causes SCS #107 run\n",
        "2002:107 Manual SCS #107 run\n",
        "2002:109 Manual SCS #107 run\n",
        "2002:230 Manual SCS #107 run\n",
        "2002:332 Manual SCS #107 Run\n",
        "2003:149 Manual SCS #107 Run\n",
        "2003:297 Manual SCS #107 Run\n",
        "2003:326 Manual SCS #107 Run\n",
        "2004:009 Manual SCS #107 Run\n",
        "2004:021 Manual SCS #107 Run\n",
        "2004:215 Manual SCS #107 Run\n",
        "2004:312 Manual SCS #107 Run\n"
       ]
      }
     ],
     "prompt_number": 122
    },
    {
     "cell_type": "code",
     "collapsed": false,
     "input": [
      "scs107s = events.major_events.filter(descr__icontains='scs', source__exact='FOT')\n",
      "for scs107 in scs107s:\n",
      "    print scs107.start, scs107.descr"
     ],
     "language": "python",
     "metadata": {},
     "outputs": [
      {
       "output_type": "stream",
       "stream": "stdout",
       "text": [
        "2000:157 Manual SCS #107 run\n",
        "2000:194 Manual SCS #107 run\n",
        "2001:098 Manual SCS #107 run\n",
        "2001:118 Manual SCS #107 run\n",
        "2001:294 Manual SCS #107 run\n",
        "2001:298 Manual SCS #107 run\n",
        "2001:324 Manual SCS #107 run\n",
        "2001:336 IEPHIN Hardware Failure Flag causes SCS #107 run\n",
        "2002:011 Manual SCS #107 Run\n",
        "2002:077 Manual SCS #107 run\n",
        "2002:092 IEPHIN Hardware Failure Flag #2 causes SCS #107 run\n",
        "2002:107 Manual SCS #107 run\n",
        "2002:109 Manual SCS #107 run\n",
        "2002:230 Manual SCS #107 run\n",
        "2002:332 Manual SCS #107 Run\n",
        "2003:149 Manual SCS #107 Run\n",
        "2003:297 Manual SCS #107 Run\n",
        "2003:326 Manual SCS #107 Run\n",
        "2004:009 Manual SCS #107 Run\n",
        "2004:021 Manual SCS #107 Run\n",
        "2004:025 Uplink of modified SCS 104 Patch\n",
        "2004:215 Manual SCS #107 Run\n",
        "2004:236 Uplink of SCS 101\n",
        "2004:312 Manual SCS #107 Run\n",
        "2005:117 Uplink of patches to SCS 107 & 84\n",
        "2005:168 Uplink of replacement patches to SCS 107 & 84.\n",
        "2005:214 Manual SCS 107 run\n",
        "2005:326 Uplink of Flight Software patches for the E1300 trip limit and SCS 107\n",
        "2011:297 Manual SCS 107 run\n",
        "2012:058 Manual SCS 107 run\n",
        "2012:088 Uplink of patches to SCS-90 parameters\n",
        "2012:196 Ground-commanded SCS 107\n",
        "2012:247 Ground-commanded SCS 107\n"
       ]
      }
     ],
     "prompt_number": 123
    },
    {
     "cell_type": "code",
     "collapsed": false,
     "input": [
      "scs107s = events.major_events.filter(descr__icontains='scs', source__exact='FOT').filter(descr__icontains='107')\n",
      "for scs107 in scs107s:\n",
      "    print scs107.start, scs107.descr"
     ],
     "language": "python",
     "metadata": {},
     "outputs": [
      {
       "output_type": "stream",
       "stream": "stdout",
       "text": [
        "2000:157 Manual SCS #107 run\n",
        "2000:194 Manual SCS #107 run\n",
        "2001:098 Manual SCS #107 run\n",
        "2001:118 Manual SCS #107 run\n",
        "2001:294 Manual SCS #107 run\n",
        "2001:298 Manual SCS #107 run\n",
        "2001:324 Manual SCS #107 run\n",
        "2001:336 IEPHIN Hardware Failure Flag causes SCS #107 run\n",
        "2002:011 Manual SCS #107 Run\n",
        "2002:077 Manual SCS #107 run\n",
        "2002:092 IEPHIN Hardware Failure Flag #2 causes SCS #107 run\n",
        "2002:107 Manual SCS #107 run\n",
        "2002:109 Manual SCS #107 run\n",
        "2002:230 Manual SCS #107 run\n",
        "2002:332 Manual SCS #107 Run\n",
        "2003:149 Manual SCS #107 Run\n",
        "2003:297 Manual SCS #107 Run\n",
        "2003:326 Manual SCS #107 Run\n",
        "2004:009 Manual SCS #107 Run\n",
        "2004:021 Manual SCS #107 Run\n",
        "2004:215 Manual SCS #107 Run\n",
        "2004:312 Manual SCS #107 Run\n",
        "2005:117 Uplink of patches to SCS 107 & 84\n",
        "2005:168 Uplink of replacement patches to SCS 107 & 84.\n",
        "2005:214 Manual SCS 107 run\n",
        "2005:326 Uplink of Flight Software patches for the E1300 trip limit and SCS 107\n",
        "2011:297 Manual SCS 107 run\n",
        "2012:058 Manual SCS 107 run\n",
        "2012:196 Ground-commanded SCS 107\n",
        "2012:247 Ground-commanded SCS 107\n"
       ]
      }
     ],
     "prompt_number": 124
    },
    {
     "cell_type": "code",
     "collapsed": false,
     "input": [
      "manvrs = events.manvrs.filter('2011:001', '2011:030', n_dwell__exact=1, angle__gte=140)\n",
      "for manvr in manvrs:\n",
      "    print manvr"
     ],
     "language": "python",
     "metadata": {},
     "outputs": [
      {
       "output_type": "stream",
       "stream": "stdout",
       "text": [
        "start=2011:002:09:22:28.920 dur=2781 n_dwell=1 template=normal\n",
        "start=2011:005:15:58:49.909 dur=3025 n_dwell=1 template=normal\n",
        "start=2011:007:16:07:08.718 dur=2915 n_dwell=1 template=normal\n",
        "start=2011:008:01:27:21.545 dur=2864 n_dwell=1 template=normal\n",
        "start=2011:008:10:39:35.697 dur=2596 n_dwell=1 template=normal\n",
        "start=2011:010:04:54:33.405 dur=2992 n_dwell=1 template=normal\n",
        "start=2011:013:01:01:55.942 dur=2968 n_dwell=1 template=normal\n",
        "start=2011:013:09:52:38.594 dur=2554 n_dwell=1 template=normal\n",
        "start=2011:015:01:30:48.851 dur=2973 n_dwell=1 template=normal\n",
        "start=2011:016:11:37:49.483 dur=2783 n_dwell=1 template=normal\n",
        "start=2011:018:07:18:48.066 dur=2744 n_dwell=1 template=normal\n",
        "start=2011:025:23:37:42.875 dur=2819 n_dwell=1 template=normal\n",
        "start=2011:028:12:26:29.561 dur=2694 n_dwell=1 template=normal\n",
        "start=2011:029:15:04:18.841 dur=2584 n_dwell=1 template=normal\n"
       ]
      }
     ],
     "prompt_number": 125
    },
    {
     "cell_type": "code",
     "collapsed": false,
     "input": [
      "sorted({manvr.template for manvr in events.manvrs.filter()})"
     ],
     "language": "python",
     "metadata": {},
     "outputs": [
      {
       "output_type": "pyout",
       "prompt_number": 126,
       "text": [
        "[u'bsh_anom',\n",
        " u'delayed_npnt',\n",
        " u'four_acq:',\n",
        " u'interm_att',\n",
        " u'nman_dwell',\n",
        " u'normal',\n",
        " u'three_acq',\n",
        " u'three_acq_nman',\n",
        " u'two_acq',\n",
        " u'two_acq_nman',\n",
        " u'unknown']"
       ]
      }
     ],
     "prompt_number": 126
    },
    {
     "cell_type": "code",
     "collapsed": false,
     "input": [
      "manvr = manvrs[0]"
     ],
     "language": "python",
     "metadata": {},
     "outputs": [],
     "prompt_number": 127
    },
    {
     "cell_type": "code",
     "collapsed": false,
     "input": [
      "manvr"
     ],
     "language": "python",
     "metadata": {},
     "outputs": [
      {
       "output_type": "pyout",
       "prompt_number": 128,
       "text": [
        "<Manvr: start=2011:002:09:22:28.920 dur=2781 n_dwell=1 template=normal>"
       ]
      }
     ],
     "prompt_number": 128
    },
    {
     "cell_type": "code",
     "collapsed": false,
     "input": [
      "help(manvr)"
     ],
     "language": "python",
     "metadata": {},
     "outputs": [
      {
       "output_type": "stream",
       "stream": "stdout",
       "text": [
        "Help on Manvr in module kadi.events.models object:\n",
        "\n",
        "class Manvr(TlmEvent)\n",
        " |  Manvr(start, stop, tstart, tstop, dur, prev_manvr_stop, prev_npnt_start, nman_start, manvr_start, manvr_stop, npnt_start, acq_start, guide_start, kalman_start, aca_proc_act_start, npnt_stop, next_nman_start, next_manvr_start, n_dwell, n_acq, n_guide, n_kalman, anomalous, template, start_ra, start_dec, start_roll, stop_ra, stop_dec, stop_roll, angle)\n",
        " |  \n",
        " |  Method resolution order:\n",
        " |      Manvr\n",
        " |      TlmEvent\n",
        " |      Event\n",
        " |      BaseEvent\n",
        " |      BaseModel\n",
        " |      django.db.models.base.Model\n",
        " |      __builtin__.object\n",
        " |  \n",
        " |  Methods defined here:\n",
        " |  \n",
        " |  __unicode__(self)\n",
        " |  \n",
        " |  ----------------------------------------------------------------------\n",
        " |  Class methods defined here:\n",
        " |  \n",
        " |  get_dwells(cls, changes) from django.db.models.base.ModelBase\n",
        " |  \n",
        " |  get_events(*args, **kwargs) from django.db.models.base.ModelBase\n",
        " |      Get maneuver events from telemetry.\n",
        " |  \n",
        " |  get_manvr_attrs(cls, changes) from django.db.models.base.ModelBase\n",
        " |      Get attributes of the maneuver event and possible dwells based on\n",
        " |      the MSID `changes`.\n",
        " |  \n",
        " |  get_target_attitudes(*args, **kwargs) from django.db.models.base.ModelBase\n",
        " |      Define start/stop_aotarqt<1..4> and start/stop_ra,dec,roll\n",
        " |  \n",
        " |  ----------------------------------------------------------------------\n",
        " |  Data descriptors defined here:\n",
        " |  \n",
        " |  dwell_set\n",
        " |  \n",
        " |  manvrseq_set\n",
        " |  \n",
        " |  ----------------------------------------------------------------------\n",
        " |  Data and other attributes defined here:\n",
        " |  \n",
        " |  DoesNotExist = <class 'kadi.events.models.DoesNotExist'>\n",
        " |  \n",
        " |  \n",
        " |  MultipleObjectsReturned = <class 'kadi.events.models.MultipleObjectsRe...\n",
        " |  \n",
        " |  \n",
        " |  event_msids = ['aofattmd', 'aopcadmd', 'aoacaseq', 'aopsacpr']\n",
        " |  \n",
        " |  event_val = 'MNVR'\n",
        " |  \n",
        " |  fetch_event_msids = ['one_shot', 'aofattmd', 'aopcadmd', 'aoacaseq', '...\n",
        " |  \n",
        " |  fetch_event_pad = 600\n",
        " |  \n",
        " |  objects = <django.db.models.manager.Manager object>\n",
        " |  \n",
        " |  ----------------------------------------------------------------------\n",
        " |  Methods inherited from TlmEvent:\n",
        " |  \n",
        " |  fetch_event(*args, **kwargs)\n",
        " |      Fetch an MSIDset of self.fetch_msids.\n",
        " |  \n",
        " |  plot(self, figsize=None, fig=None)\n",
        " |      Wrapper interface to plotting routines in plot module.  This is factored out\n",
        " |      of this module (models) to reduce loading of other modules (matplotlib) req'd\n",
        " |      for plotting.\n",
        " |  \n",
        " |  ----------------------------------------------------------------------\n",
        " |  Class methods inherited from TlmEvent:\n",
        " |  \n",
        " |  get_extras(cls, event, event_msidset) from django.db.models.base.ModelBase\n",
        " |      Get extra stuff for the event based on telemetry available in event_msidset.\n",
        " |      This is a hook within get_events() that should be overridden in individual\n",
        " |      classes.\n",
        " |  \n",
        " |  get_msids_states(*args, **kwargs) from django.db.models.base.ModelBase\n",
        " |      Get event and related MSIDs and compute the states corresponding\n",
        " |      to the event.\n",
        " |  \n",
        " |  ----------------------------------------------------------------------\n",
        " |  Data descriptors inherited from TlmEvent:\n",
        " |  \n",
        " |  msidset\n",
        " |      fetch.MSIDset of self.fetch_event_msids.  By default filter_bad is True.\n",
        " |  \n",
        " |  ----------------------------------------------------------------------\n",
        " |  Data and other attributes inherited from TlmEvent:\n",
        " |  \n",
        " |  Meta = <class kadi.events.models.Meta>\n",
        " |  \n",
        " |  ----------------------------------------------------------------------\n",
        " |  Data and other attributes inherited from BaseEvent:\n",
        " |  \n",
        " |  lookback = 21\n",
        " |  \n",
        " |  ----------------------------------------------------------------------\n",
        " |  Class methods inherited from BaseModel:\n",
        " |  \n",
        " |  from_dict(cls, model_dict, logger=None) from django.db.models.base.ModelBase\n",
        " |      Set model from a dict `model_dict` which might have extra stuff not in\n",
        " |      Model.  If `logger` is supplied then log output at debug level.\n",
        " |  \n",
        " |  get_date_intervals(*args, **kwargs) from django.db.models.base.ModelBase\n",
        " |  \n",
        " |  ----------------------------------------------------------------------\n",
        " |  Data descriptors inherited from BaseModel:\n",
        " |  \n",
        " |  model_name\n",
        " |  \n",
        " |  ----------------------------------------------------------------------\n",
        " |  Methods inherited from django.db.models.base.Model:\n",
        " |  \n",
        " |  __eq__(self, other)\n",
        " |  \n",
        " |  __hash__(self)\n",
        " |  \n",
        " |  __init__(self, *args, **kwargs)\n",
        " |  \n",
        " |  __ne__(self, other)\n",
        " |  \n",
        " |  __reduce__(self)\n",
        " |      Provides pickling support. Normally, this just dispatches to Python's\n",
        " |      standard handling. However, for models with deferred field loading, we\n",
        " |      need to do things manually, as they're dynamically created classes and\n",
        " |      only module-level classes can be pickled by the default path.\n",
        " |  \n",
        " |  __repr__(self)\n",
        " |  \n",
        " |  __str__(self)\n",
        " |  \n",
        " |  clean(self)\n",
        " |      Hook for doing any extra model-wide validation after clean() has been\n",
        " |      called on every field by self.clean_fields. Any ValidationError raised\n",
        " |      by this method will not be associated with a particular field; it will\n",
        " |      have a special-case association with the field defined by NON_FIELD_ERRORS.\n",
        " |  \n",
        " |  clean_fields(self, exclude=None)\n",
        " |      Cleans all fields and raises a ValidationError containing message_dict\n",
        " |      of all validation errors if any occur.\n",
        " |  \n",
        " |  date_error_message(self, lookup_type, field, unique_for)\n",
        " |  \n",
        " |  delete(self, using=None)\n",
        " |  \n",
        " |  full_clean(self, exclude=None)\n",
        " |      Calls clean_fields, clean, and validate_unique, on the model,\n",
        " |      and raises a ``ValidationError`` for any errors that occured.\n",
        " |  \n",
        " |  prepare_database_save(self, unused)\n",
        " |  \n",
        " |  save(self, force_insert=False, force_update=False, using=None)\n",
        " |      Saves the current instance. Override this in a subclass if you want to\n",
        " |      control the saving process.\n",
        " |      \n",
        " |      The 'force_insert' and 'force_update' parameters can be used to insist\n",
        " |      that the \"save\" must be an SQL insert or update (or equivalent for\n",
        " |      non-SQL backends), respectively. Normally, they should not be set.\n",
        " |  \n",
        " |  save_base(self, raw=False, cls=None, origin=None, force_insert=False, force_update=False, using=None)\n",
        " |      Does the heavy-lifting involved in saving. Subclasses shouldn't need to\n",
        " |      override this method. It's separate from save() in order to hide the\n",
        " |      need for overrides of save() to pass around internal-only parameters\n",
        " |      ('raw', 'cls', and 'origin').\n",
        " |  \n",
        " |  serializable_value(self, field_name)\n",
        " |      Returns the value of the field name for this instance. If the field is\n",
        " |      a foreign key, returns the id value, instead of the object. If there's\n",
        " |      no Field object with this name on the model, the model attribute's\n",
        " |      value is returned directly.\n",
        " |      \n",
        " |      Used to serialize a field's value (in the serializer, or form output,\n",
        " |      for example). Normally, you would just access the attribute directly\n",
        " |      and not use this method.\n",
        " |  \n",
        " |  unique_error_message(self, model_class, unique_check)\n",
        " |  \n",
        " |  validate_unique(self, exclude=None)\n",
        " |      Checks unique constraints on the model and raises ``ValidationError``\n",
        " |      if any failed.\n",
        " |  \n",
        " |  ----------------------------------------------------------------------\n",
        " |  Data descriptors inherited from django.db.models.base.Model:\n",
        " |  \n",
        " |  __dict__\n",
        " |      dictionary for instance variables (if defined)\n",
        " |  \n",
        " |  __weakref__\n",
        " |      list of weak references to the object (if defined)\n",
        " |  \n",
        " |  pk\n",
        " |  \n",
        " |  ----------------------------------------------------------------------\n",
        " |  Data and other attributes inherited from django.db.models.base.Model:\n",
        " |  \n",
        " |  __metaclass__ = <class 'django.db.models.base.ModelBase'>\n",
        " |      Metaclass for all models.\n",
        "\n"
       ]
      }
     ],
     "prompt_number": 129
    },
    {
     "cell_type": "code",
     "collapsed": false,
     "input": [
      "manvr.plot()"
     ],
     "language": "python",
     "metadata": {},
     "outputs": [
      {
       "output_type": "display_data",
       "png": "[encoded data removed]"
      }
     ],
     "prompt_number": 130
    },
    {
     "cell_type": "code",
     "collapsed": false,
     "input": [
      "for manvrseq in manvr.manvrseq_set.all():\n",
      "    print manvrseq"
     ],
     "language": "python",
     "metadata": {},
     "outputs": [
      {
       "output_type": "stream",
       "stream": "stdout",
       "text": [
        "AOFATTMD: MNVR => STDY at 2011:002:08:36:18.857\n",
        "AOPCADMD: NMAN => NPNT at 2011:002:08:36:34.232\n",
        "AOPCADMD: NPNT => NMAN at 2011:002:09:22:19.182\n",
        "AOFATTMD: STDY => MNVR at 2011:002:09:22:29.432\n",
        "AOFATTMD: MNVR => STDY at 2011:002:10:08:50.257\n",
        "AOPSACPR: INAC => INIT at 2011:002:10:09:02.557\n",
        "AOPCADMD: NMAN => NPNT at 2011:002:10:09:05.632\n",
        "AOACASEQ: KALM => AQXN at 2011:002:10:09:05.632\n",
        "AOPSACPR: INIT => ACT  at 2011:002:10:09:10.757\n",
        "AOACASEQ: AQXN => GUID at 2011:002:10:09:43.557\n",
        "AOACASEQ: GUID => KALM at 2011:002:10:10:04.057\n",
        "AOPCADMD: NPNT => NMAN at 2011:002:12:44:09.558\n",
        "AOPSACPR: ACT  => INAC at 2011:002:12:44:09.558\n",
        "AOFATTMD: STDY => MNVR at 2011:002:12:44:19.808\n"
       ]
      }
     ],
     "prompt_number": 131
    },
    {
     "cell_type": "code",
     "collapsed": false,
     "input": [
      "events.queryset_to_array(manvr.manvrseq_set)"
     ],
     "language": "python",
     "metadata": {},
     "outputs": [
      {
       "output_type": "pyout",
       "prompt_number": 132,
       "text": [
        "array([ (230435, '2011:002:09:22:28.920', 'aofattmd', 'MNVR', 'STDY', '2011:002:08:36:18.857', -5551.400286793709, 410344645.0411535, '2011:002:08:36:17.832', 410344644.01615345),\n",
        "       (230436, '2011:002:09:22:28.920', 'aopcadmd', 'NMAN', 'NPNT', '2011:002:08:36:34.232', -5536.025286078453, 410344660.41615427, '2011:002:08:36:33.207', 410344659.3911542),\n",
        "       (230437, '2011:002:09:22:28.920', 'aopcadmd', 'NPNT', 'NMAN', '2011:002:09:22:19.182', -2791.075144171715, 410347405.3662961, '2011:002:09:22:18.157', 410347404.3412961),\n",
        "       (230438, '2011:002:09:22:28.920', 'aofattmd', 'STDY', 'MNVR', '2011:002:09:22:29.432', -2780.8251436948776, 410347415.61629665, '2011:002:09:22:28.407', 410347414.59129655),\n",
        "       (230439, '2011:002:09:22:28.920', 'aofattmd', 'MNVR', 'STDY', '2011:002:10:08:50.257', 0.0, 410350196.4414403, '2011:002:10:08:49.232', 410350195.41644025),\n",
        "       (230440, '2011:002:09:22:28.920', 'aopsacpr', 'INAC', 'INIT', '2011:002:10:09:02.557', 8.7125004529953, 410350208.74144095, '2011:002:10:08:54.357', 410350200.54144055),\n",
        "       (230441, '2011:002:09:22:28.920', 'aopcadmd', 'NMAN', 'NPNT', '2011:002:10:09:05.632', 15.375000774860382, 410350211.8164411, '2011:002:10:09:04.607', 410350210.791441),\n",
        "       (230442, '2011:002:09:22:28.920', 'aoacaseq', 'KALM', 'AQXN', '2011:002:10:09:05.632', 15.375000774860382, 410350211.8164411, '2011:002:10:09:04.607', 410350210.791441),\n",
        "       (230443, '2011:002:09:22:28.920', 'aopsacpr', 'INIT', 'ACT ', '2011:002:10:09:10.757', 16.912500858306885, 410350216.94144136, '2011:002:10:09:02.557', 410350208.74144095),\n",
        "       (230444, '2011:002:09:22:28.920', 'aoacaseq', 'AQXN', 'GUID', '2011:002:10:09:43.557', 53.300002694129944, 410350249.74144304, '2011:002:10:09:42.532', 410350248.716443),\n",
        "       (230445, '2011:002:09:22:28.920', 'aoacaseq', 'GUID', 'KALM', '2011:002:10:10:04.057', 73.80000376701355, 410350270.2414441, '2011:002:10:10:03.032', 410350269.2164441),\n",
        "       (230446, '2011:002:09:22:28.920', 'aopcadmd', 'NPNT', 'NMAN', '2011:002:12:44:09.558', 9319.300481498241, 410359515.74192184, '2011:002:12:44:08.533', 410359514.71692175),\n",
        "       (230447, '2011:002:09:22:28.920', 'aopsacpr', 'ACT ', 'INAC', '2011:002:12:44:09.558', 9315.71298134327, 410359515.74192184, '2011:002:12:44:01.358', 410359507.5419214),\n",
        "       (230448, '2011:002:09:22:28.920', 'aofattmd', 'STDY', 'MNVR', '2011:002:12:44:19.808', 9329.550482034683, 410359525.9919223, '2011:002:12:44:18.783', 410359524.9669223)], \n",
        "      dtype=[('id', '<i8'), ('manvr', '|S21'), ('msid', '|S8'), ('prev_val', '|S4'), ('val', '|S4'), ('date', '|S21'), ('dt', '<f8'), ('time', '<f8'), ('prev_date', '|S21'), ('prev_time', '<f8')])"
       ]
      }
     ],
     "prompt_number": 132
    },
    {
     "cell_type": "markdown",
     "metadata": {},
     "source": [
      "Commands\n",
      "--------\n",
      "\n",
      "All the commands that have been run as stored commands via SCS slots 128 to 133 are stored in a single HDF5 file.  These are accessible via the `kadi.cmds` module.  (*To be changed to kadi.commands*).\n",
      "\n",
      "Technically speaking, \"all commands\" refers to every command that is part of a load segment that is on iFOT and was actually uplinked and run.  This is part of the Ska commanded states database.  There is a certain component of human caretaking to ensure that load stop times are correct, so small errors are possible (and likely) near times of anomalous load stops.\n",
      "\n",
      "One final limitation is that the star catalog parameters are not stored.  To do so would increase the file size by a factor of 10."
     ]
    },
    {
     "cell_type": "code",
     "collapsed": false,
     "input": [
      "from kadi import cmds as commands"
     ],
     "language": "python",
     "metadata": {},
     "outputs": [],
     "prompt_number": 133
    },
    {
     "cell_type": "markdown",
     "metadata": {},
     "source": [
      "### Find and filter\n",
      "\n",
      "The commands interface also features `find` and `filter` functions.  They share the same idea as the corresponding `events` versions, but the details are different."
     ]
    },
    {
     "cell_type": "markdown",
     "metadata": {},
     "source": [
      "**find**: `find(start, stop, **filter_kwargs)` returns a numpy array with `idx`, `date`, `type`, `tlmsid`, `scs`, `step`, and `timeline_id` fields"
     ]
    },
    {
     "cell_type": "code",
     "collapsed": false,
     "input": [
      "commands.find('2012:001:00:00:00', '2012:001:01:00:00')"
     ],
     "language": "python",
     "metadata": {},
     "outputs": [
      {
       "output_type": "pyout",
       "prompt_number": 134,
       "text": [
        "array([ (12, '2012:001:00:11:29.455', 'ACISPKT', 'AA00000000', 131, 1615, 426098423L),\n",
        "       (12, '2012:001:00:11:33.455', 'ACISPKT', 'AA00000000', 131, 1619, 426098423L),\n",
        "       (30, '2012:001:00:11:37.455', 'ACISPKT', 'WSPOW00000', 131, 1623, 426098423L),\n",
        "       (31, '2012:001:00:12:01.455', 'ACISPKT', 'WSPOW08002', 131, 1629, 426098423L),\n",
        "       (32, '2012:001:00:13:04.455', 'ACISPKT', 'WT00910014', 131, 1635, 426098423L),\n",
        "       (1, '2012:001:00:13:08.455', 'ACISPKT', 'XTZ0000005', 131, 1723, 426098423L),\n",
        "       (33, '2012:001:00:13:12.455', 'ACISPKT', 'RS_0000001', 131, 1728, 426098423L),\n",
        "       (34, '2012:001:00:13:16.455', 'ACISPKT', 'RH_0000001', 131, 1732, 426098423L),\n",
        "       (8, '2012:001:00:18:50.781', 'COMMAND_HW', 'CNOOP', 128, 1073, 426098422L),\n",
        "       (8, '2012:001:00:18:51.806', 'COMMAND_HW', 'CNOOP', 128, 1075, 426098422L)], \n",
        "      dtype=[('idx', '<u2'), ('date', '|S21'), ('type', '|S12'), ('tlmsid', '|S10'), ('scs', '|u1'), ('step', '<u2'), ('timeline_id', '<u4')])"
       ]
      }
     ],
     "prompt_number": 134
    },
    {
     "cell_type": "code",
     "collapsed": false,
     "input": [
      "import pickle\n",
      "cmd_params = pickle.load(open('cmds.pkl'))"
     ],
     "language": "python",
     "metadata": {},
     "outputs": [],
     "prompt_number": 135
    },
    {
     "cell_type": "code",
     "collapsed": false,
     "input": [
      "len(cmd_params)"
     ],
     "language": "python",
     "metadata": {},
     "outputs": [
      {
       "output_type": "pyout",
       "prompt_number": 136,
       "text": [
        "35872"
       ]
      }
     ],
     "prompt_number": 136
    },
    {
     "cell_type": "code",
     "collapsed": false,
     "input": [
      "cmd_params.items()[-1]"
     ],
     "language": "python",
     "metadata": {},
     "outputs": [
      {
       "output_type": "pyout",
       "prompt_number": 137,
       "text": [
        "((('ao1minus', 0.359793961),\n",
        "  ('ao1plus', 0.640205979),\n",
        "  ('aoargper', 4.84639835),\n",
        "  ('aoascend', 6.1817627),\n",
        "  ('aoeccent', 0.87226975),\n",
        "  ('aoephem1', 8133401),\n",
        "  ('aoephem2', '8A3001A'),\n",
        "  ('aoiterat', 10),\n",
        "  ('aomotion', 2.74858612e-05),\n",
        "  ('aoorbang', 87764.7031),\n",
        "  ('aoperige', 406454038.45801),\n",
        "  ('aoratio', 3.82857656),\n",
        "  ('aosini', 0.959879637),\n",
        "  ('aoslr', 19324.2109),\n",
        "  ('aosqrtmu', 156545.156),\n",
        "  ('cmds', 17)),\n",
        " 3255)"
       ]
      }
     ],
     "prompt_number": 137
    },
    {
     "cell_type": "code",
     "collapsed": false,
     "input": [
      "rev_params = {v: k for k, v in cmd_params.items()}"
     ],
     "language": "python",
     "metadata": {},
     "outputs": [],
     "prompt_number": 138
    },
    {
     "cell_type": "code",
     "collapsed": false,
     "input": [
      "rev_params[34]"
     ],
     "language": "python",
     "metadata": {},
     "outputs": [
      {
       "output_type": "pyout",
       "prompt_number": 139,
       "text": [
        "(('cmds', 3), ('packet(40)', 'D80000300030044002300'), ('words', 3))"
       ]
      }
     ],
     "prompt_number": 139
    },
    {
     "cell_type": "code",
     "collapsed": false,
     "input": [
      "commands.find('2012:001', '2012:005', tlmsid='WSPOW00000')"
     ],
     "language": "python",
     "metadata": {},
     "outputs": [
      {
       "output_type": "pyout",
       "prompt_number": 140,
       "text": [
        "array([ (30, '2012:001:15:53:11.455', 'ACISPKT', 'WSPOW00000', 131, 1879, 426098423L),\n",
        "       (30, '2012:001:17:19:47.933', 'ACISPKT', 'WSPOW00000', 131, 2016, 426098423L),\n",
        "       (30, '2012:001:18:23:38.933', 'ACISPKT', 'WSPOW00000', 132, 135, 426098425L),\n",
        "       (30, '2012:002:02:57:01.359', 'ACISPKT', 'WSPOW00000', 132, 297, 426098425L),\n",
        "       (30, '2012:002:10:40:58.359', 'ACISPKT', 'WSPOW00000', 132, 447, 426098425L),\n",
        "       (30, '2012:002:12:19:01.359', 'ACISPKT', 'WSPOW00000', 132, 582, 426098425L),\n",
        "       (30, '2012:002:14:59:14.397', 'ACISPKT', 'WSPOW00000', 132, 740, 426098425L),\n",
        "       (30, '2012:003:13:06:26.581', 'ACISPKT', 'WSPOW00000', 132, 869, 426098425L),\n",
        "       (30, '2012:003:16:21:41.716', 'ACISPKT', 'WSPOW00000', 132, 1007, 426098425L),\n",
        "       (30, '2012:003:22:31:35.675', 'ACISPKT', 'WSPOW00000', 132, 1158, 426098425L),\n",
        "       (30, '2012:004:12:33:00.065', 'ACISPKT', 'WSPOW00000', 132, 1295, 426098425L),\n",
        "       (30, '2012:004:16:33:11.148', 'ACISPKT', 'WSPOW00000', 132, 1424, 426098425L),\n",
        "       (30, '2012:004:18:27:30.898', 'ACISPKT', 'WSPOW00000', 132, 1586, 426098425L),\n",
        "       (30, '2012:005:01:24:50.898', 'ACISPKT', 'WSPOW00000', 132, 1732, 426098425L),\n",
        "       (30, '2012:005:03:04:53.898', 'ACISPKT', 'WSPOW00000', 132, 1867, 426098425L)], \n",
        "      dtype=[('idx', '<u2'), ('date', '|S21'), ('type', '|S12'), ('tlmsid', '|S10'), ('scs', '|u1'), ('step', '<u2'), ('timeline_id', '<u4')])"
       ]
      }
     ],
     "prompt_number": 140
    },
    {
     "cell_type": "code",
     "collapsed": false,
     "input": [
      "commands.find('2012:001', '2012:002', tlmsid='AOUPTARQ')"
     ],
     "language": "python",
     "metadata": {},
     "outputs": [
      {
       "output_type": "pyout",
       "prompt_number": 141,
       "text": [
        "array([ (118, '2012:001:15:50:07.812', 'MP_TARGQUAT', 'AOUPTARQ', 128, 1160, 426098422L),\n",
        "       (122, '2012:001:16:38:05.812', 'MP_TARGQUAT', 'AOUPTARQ', 128, 1237, 426098422L),\n",
        "       (60, '2012:001:18:20:35.290', 'MP_TARGQUAT', 'AOUPTARQ', 129, 16, 426098424L),\n",
        "       (60, '2012:002:02:49:32.006', 'MP_TARGQUAT', 'AOUPTARQ', 129, 101, 426098424L),\n",
        "       (130, '2012:002:03:04:44.247', 'MP_TARGQUAT', 'AOUPTARQ', 129, 183, 426098424L),\n",
        "       (132, '2012:002:04:27:43.802', 'MP_TARGQUAT', 'AOUPTARQ', 129, 262, 426098424L),\n",
        "       (135, '2012:002:10:01:28.277', 'MP_TARGQUAT', 'AOUPTARQ', 129, 348, 426098424L)], \n",
        "      dtype=[('idx', '<u2'), ('date', '|S21'), ('type', '|S12'), ('tlmsid', '|S10'), ('scs', '|u1'), ('step', '<u2'), ('timeline_id', '<u4')])"
       ]
      }
     ],
     "prompt_number": 141
    },
    {
     "cell_type": "markdown",
     "metadata": {},
     "source": [
      "**Filter**: `filter(start, stop, **filter_kwargs)` returns a `CmdList` object with **all** the parameters"
     ]
    },
    {
     "cell_type": "code",
     "collapsed": false,
     "input": [
      "cmds = commands.filter('2012:001', '2012:002', tlmsid='AOUPTARQ')\n",
      "print type(cmds)\n",
      "print cmds"
     ],
     "language": "python",
     "metadata": {},
     "outputs": [
      {
       "output_type": "stream",
       "stream": "stdout",
       "text": [
        "<class 'kadi.cmds.cmds.CmdList'>\n",
        "2012:001:15:50:07.812 MP_TARGQUAT tlmsid=AOUPTARQ scs=128 step=1160 timeline_id=426098422 cmds=8 q1=-0.556828981 q2=-0.691611733 q3=-0.414166683 q4=0.200201537\n",
        "2012:001:16:38:05.812 MP_TARGQUAT tlmsid=AOUPTARQ scs=128 step=1237 timeline_id=426098422 cmds=8 q1=-0.237120247 q2=-0.157445188 q3=0.641463044 q4=0.712397476\n",
        "2012:001:18:20:35.290 MP_TARGQUAT tlmsid=AOUPTARQ scs=129 step=16 timeline_id=426098424 cmds=8 q1=-0.435629062 q2=-0.209409616 q3=0.398884739 q4=0.779272672\n",
        "2012:002:02:49:32.006 MP_TARGQUAT tlmsid=AOUPTARQ scs=129 step=101 timeline_id=426098424 cmds=8 q1=-0.435629062 q2=-0.209409616 q3=0.398884739 q4=0.779272672\n",
        "2012:002:03:04:44.247 MP_TARGQUAT tlmsid=AOUPTARQ scs=129 step=183 timeline_id=426098424 cmds=8 q1=-0.26910251 q2=-0.215109156 q3=0.605736895 q4=0.717213151\n",
        "2012:002:04:27:43.802 MP_TARGQUAT tlmsid=AOUPTARQ scs=129 step=262 timeline_id=426098424 cmds=8 q1=0.194743756 q2=0.259987192 q3=0.816437773 q4=0.477400139\n",
        "2012:002:10:01:28.277 MP_TARGQUAT tlmsid=AOUPTARQ scs=129 step=348 timeline_id=426098424 cmds=8 q1=-0.55181765 q2=-0.689482761 q3=-0.449329698 q4=0.134957866\n"
       ]
      }
     ],
     "prompt_number": 142
    },
    {
     "cell_type": "markdown",
     "metadata": {},
     "source": [
      "Intervals\n",
      "----------\n",
      "\n",
      "The `QueryEvent` class provides a way to define complex bad time filters to the Ska engineering archive."
     ]
    },
    {
     "cell_type": "code",
     "collapsed": false,
     "input": [
      "manvr_intervals = events.manvrs.intervals('2012:001', '2012:002')\n",
      "manvr_intervals"
     ],
     "language": "python",
     "metadata": {},
     "outputs": [
      {
       "output_type": "pyout",
       "prompt_number": 143,
       "text": [
        "[('2012:001:15:50:13.802', '2012:001:16:06:14.227'),\n",
        " ('2012:001:16:38:12.002', '2012:001:17:26:11.228'),\n",
        " ('2012:001:18:20:40.978', '2012:001:18:39:56.153'),\n",
        " ('2012:002:02:53:03.804', '2012:002:02:57:03.654'),\n",
        " ('2012:002:03:04:50.029', '2012:002:03:22:33.980'),\n",
        " ('2012:002:04:27:49.480', '2012:002:04:58:02.705'),\n",
        " ('2012:002:10:01:33.881', '2012:002:10:36:32.056')]"
       ]
      }
     ],
     "prompt_number": 143
    },
    {
     "cell_type": "code",
     "collapsed": false,
     "input": [
      "dwell_intervals = events.dwells.intervals('2012:001', '2012:002')\n",
      "dwell_intervals"
     ],
     "language": "python",
     "metadata": {},
     "outputs": [
      {
       "output_type": "pyout",
       "prompt_number": 144,
       "text": [
        "[('2012:001:12:00:00.000', '2012:001:15:48:23.040'),\n",
        " ('2012:001:16:09:07.515', '2012:001:16:36:21.240'),\n",
        " ('2012:001:17:29:08.615', '2012:001:18:18:50.215'),\n",
        " ('2012:001:18:42:52.515', '2012:002:02:47:47.017'),\n",
        " ('2012:002:02:59:51.817', '2012:002:03:02:59.267'),\n",
        " ('2012:002:03:25:25.217', '2012:002:04:25:59.742'),\n",
        " ('2012:002:05:00:40.617', '2012:002:09:59:43.118'),\n",
        " ('2012:002:10:40:01.218', '2012:002:12:00:00.000')]"
       ]
      }
     ],
     "prompt_number": 144
    },
    {
     "cell_type": "code",
     "collapsed": false,
     "input": [
      "(events.manvrs & events.tsc_moves).intervals('2012:001', '2012:002')"
     ],
     "language": "python",
     "metadata": {},
     "outputs": [
      {
       "output_type": "pyout",
       "prompt_number": 145,
       "text": [
        "[('2012:001:18:20:40.978', '2012:001:18:27:04.515'),\n",
        " ('2012:002:02:53:03.804', '2012:002:02:57:03.654')]"
       ]
      }
     ],
     "prompt_number": 145
    },
    {
     "cell_type": "code",
     "collapsed": false,
     "input": [
      "dwells = events.dwells\n",
      "dwells.interval_pad = -100\n",
      "tsc_moves = events.tsc_moves\n",
      "tsc_moves.interval_pad = 300\n",
      "dumps = events.dumps\n",
      "dumps.interval_pad = (10, 500)\n",
      "(dwells & ~(tsc_moves | dumps)).intervals('2012:001', '2012:002')"
     ],
     "language": "python",
     "metadata": {},
     "outputs": [
      {
       "output_type": "pyout",
       "prompt_number": 146,
       "text": [
        "[('2012:001:12:00:00.000', '2012:001:15:48:23.040'),\n",
        " ('2012:001:16:09:07.515', '2012:001:16:36:21.240'),\n",
        " ('2012:001:17:29:08.615', '2012:001:18:16:31.715'),\n",
        " ('2012:001:18:42:52.515', '2012:002:02:45:28.517'),\n",
        " ('2012:002:02:59:51.817', '2012:002:03:02:59.267'),\n",
        " ('2012:002:03:25:25.217', '2012:002:04:25:59.742'),\n",
        " ('2012:002:05:00:40.617', '2012:002:06:44:52.280'),\n",
        " ('2012:002:06:49:08.030', '2012:002:09:59:43.118'),\n",
        " ('2012:002:10:40:01.218', '2012:002:12:00:00.000')]"
       ]
      }
     ],
     "prompt_number": 146
    },
    {
     "cell_type": "code",
     "collapsed": false,
     "input": [
      "dwells_inv = ~(dwells & ~(tsc_moves | dumps))\n",
      "bad_intervals = dwells_inv.intervals('2012:001', '2012:002')\n",
      "bad_times = ['{} {}'.format(*x) for x in bad_intervals]\n",
      "bad_times"
     ],
     "language": "python",
     "metadata": {},
     "outputs": [
      {
       "output_type": "pyout",
       "prompt_number": 147,
       "text": [
        "['2012:001:15:48:23.040 2012:001:16:09:07.515',\n",
        " '2012:001:16:36:21.240 2012:001:17:29:08.615',\n",
        " '2012:001:18:16:31.715 2012:001:18:42:52.515',\n",
        " '2012:002:02:45:28.517 2012:002:02:59:51.817',\n",
        " '2012:002:03:02:59.267 2012:002:03:25:25.217',\n",
        " '2012:002:04:25:59.742 2012:002:05:00:40.617',\n",
        " '2012:002:06:44:52.280 2012:002:06:49:08.030',\n",
        " '2012:002:09:59:43.118 2012:002:10:40:01.218']"
       ]
      }
     ],
     "prompt_number": 147
    },
    {
     "cell_type": "code",
     "collapsed": false,
     "input": [
      "dat = fetch.Msid('aoattqt1', '2012:001', '2012:002')"
     ],
     "language": "python",
     "metadata": {},
     "outputs": [],
     "prompt_number": 148
    },
    {
     "cell_type": "code",
     "collapsed": false,
     "input": [
      "dat.filter_bad_times(table=bad_times)"
     ],
     "language": "python",
     "metadata": {},
     "outputs": [],
     "prompt_number": 149
    },
    {
     "cell_type": "code",
     "collapsed": false,
     "input": [
      "out = plot_cxctime(dat.times, dat.vals, '.')"
     ],
     "language": "python",
     "metadata": {},
     "outputs": [
      {
       "output_type": "display_data",
       "png": "[encoded data removed]"
      }
     ],
     "prompt_number": 150
    },
    {
     "cell_type": "code",
     "collapsed": false,
     "input": [
      "rad_zones = events.rad_zones\n",
      "rad_zone_dwells = rad_zones & dwells\n",
      "bad_intervals = (~rad_zone_dwells).intervals('2012:001', '2012:007')\n",
      "bad_times = ['{} {}'.format(*x) for x in bad_intervals]\n",
      "bad_times"
     ],
     "language": "python",
     "metadata": {},
     "outputs": [
      {
       "output_type": "pyout",
       "prompt_number": 151,
       "text": [
        "['2012:001:12:00:00.000 2012:002:02:59:51.817',\n",
        " '2012:002:03:02:59.267 2012:002:03:25:25.217',\n",
        " '2012:002:04:25:59.742 2012:002:05:00:40.617',\n",
        " '2012:002:09:59:43.118 2012:002:10:40:01.218',\n",
        " '2012:002:12:02:02.119 2012:004:18:30:28.329',\n",
        " '2012:004:18:30:12.829 2012:004:19:02:27.129',\n",
        " '2012:005:01:06:33.855 2012:005:01:23:16.430',\n",
        " '2012:005:02:41:45.156 2012:007:10:32:47.241',\n",
        " '2012:007:10:38:46.891 2012:007:10:58:12.441']"
       ]
      }
     ],
     "prompt_number": 151
    },
    {
     "cell_type": "code",
     "collapsed": false,
     "input": [
      "altitude = fetch.Msid('Dist_SatEarth', '2012:001', '2012:007')\n",
      "altitude.filter_bad_times(table=bad_times)\n",
      "plot_cxctime(altitude.times, altitude.vals, '.')\n",
      "grid()"
     ],
     "language": "python",
     "metadata": {},
     "outputs": [
      {
       "output_type": "display_data",
       "png": "[encoded data removed]"
      }
     ],
     "prompt_number": 152
    },
    {
     "cell_type": "code",
     "collapsed": false,
     "input": [],
     "language": "python",
     "metadata": {},
     "outputs": [],
     "prompt_number": 152
    }
   ],
   "metadata": {}
  }
 ]
}